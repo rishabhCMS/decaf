{
 "cells": [
  {
   "cell_type": "code",
   "execution_count": 1,
   "metadata": {},
   "outputs": [],
   "source": [
    "from coffea.nanoaod import NanoEvents\n",
    "from uproot_methods import TVector2Array, TLorentzVectorArray\n",
    "\n",
    "fname = 'root://cmseos.fnal.gov//store/group/lpccoffea/coffeabeans/NanoAODv6/nano_2018/MET/NanoTuples-2018_Run2018A-17Sep2018-v1/191206_204012/0000/nano_1.root'\n",
    "events = NanoEvents.from_file(fname)"
   ]
  },
  {
   "cell_type": "code",
   "execution_count": 4,
   "metadata": {},
   "outputs": [],
   "source": [
    "import uproot\n",
    "file = uproot.open(fname)"
   ]
  },
  {
   "cell_type": "code",
   "execution_count": 6,
   "metadata": {},
   "outputs": [
    {
     "data": {
      "text/plain": [
       "[b'eej;1', b'evj;1', b'vvj;1', b'aj;1']"
      ]
     },
     "execution_count": 6,
     "metadata": {},
     "output_type": "execute_result"
    }
   ],
   "source": [
    "file.keys()"
   ]
  },
  {
   "cell_type": "code",
   "execution_count": 12,
   "metadata": {},
   "outputs": [
    {
     "name": "stdout",
     "output_type": "stream",
     "text": [
      "                    0                                                     1.2317\n",
      "                    +----------------------------------------------------------+\n",
      "[-inf, 30)   0      |                                                          |\n",
      "[30, 40)     1.0604 |**************************************************        |\n",
      "[40, 50)     1.0539 |**************************************************        |\n",
      "[50, 60)     1.0766 |***************************************************       |\n",
      "[60, 70)     1.0642 |**************************************************        |\n",
      "[70, 80)     1.0662 |**************************************************        |\n",
      "[80, 90)     1.0637 |**************************************************        |\n",
      "[90, 100)    1.0759 |***************************************************       |\n",
      "[100, 110)   1.0742 |***************************************************       |\n",
      "[110, 120)   1.0768 |***************************************************       |\n",
      "[120, 130)   1.0837 |***************************************************       |\n",
      "[130, 140)   1.0702 |**************************************************        |\n",
      "[140, 150)   1.0856 |***************************************************       |\n",
      "[150, 200)   1.0809 |***************************************************       |\n",
      "[200, 250)   1.0817 |***************************************************       |\n",
      "[250, 300)   1.0828 |***************************************************       |\n",
      "[300, 350)   1.0849 |***************************************************       |\n",
      "[350, 400)   1.0831 |***************************************************       |\n",
      "[400, 450)   1.0876 |***************************************************       |\n",
      "[450, 500)   1.0886 |***************************************************       |\n",
      "[500, 550)   1.0822 |***************************************************       |\n",
      "[550, 600)   1.0843 |***************************************************       |\n",
      "[600, 650)   1.0846 |***************************************************       |\n",
      "[650, 700)   1.0816 |***************************************************       |\n",
      "[700, 750)   1.084  |***************************************************       |\n",
      "[750, 800)   1.0861 |***************************************************       |\n",
      "[800, 850)   1.083  |***************************************************       |\n",
      "[850, 900)   1.086  |***************************************************       |\n",
      "[900, 950)   1.0831 |***************************************************       |\n",
      "[950, 1000)  1.0858 |***************************************************       |\n",
      "[1000, 1100) 1.0901 |***************************************************       |\n",
      "[1100, 1200) 1.0815 |***************************************************       |\n",
      "[1200, 1300) 1.0883 |***************************************************       |\n",
      "[1300, 1400) 1.09   |***************************************************       |\n",
      "[1400, 1600) 1.0919 |***************************************************       |\n",
      "[1600, 1800) 1.0917 |***************************************************       |\n",
      "[1800, 2000) 1.0935 |***************************************************       |\n",
      "[2000, 2200) 1.0958 |****************************************************      |\n",
      "[2200, 2400) 1.0943 |****************************************************      |\n",
      "[2400, 2600) 1.0941 |****************************************************      |\n",
      "[2600, 2800) 1.0956 |****************************************************      |\n",
      "[2800, 3000) 1.1008 |****************************************************      |\n",
      "[3000, 6500) 1.1731 |*******************************************************   |\n",
      "[6500, inf]  0      |                                                          |\n",
      "                    +----------------------------------------------------------+\n"
     ]
    }
   ],
   "source": [
    "file['eej'].show()"
   ]
  },
  {
   "cell_type": "code",
   "execution_count": 2,
   "metadata": {},
   "outputs": [],
   "source": [
    "j = events.Jet\n",
    "met = events.MET\n",
    "\n",
    "j['p4'] = TLorentzVectorArray.from_ptetaphim(j.pt, j.eta, j.phi, j.mass)\n",
    "j['T'] = TVector2Array.from_polar(j.pt, j.phi)\n",
    "leading_j = j[j.pt.argmax()]\n",
    "\n",
    "met['T'] = TVector2Array.from_polar(met.pt, met.phi)"
   ]
  },
  {
   "cell_type": "code",
   "execution_count": 3,
   "metadata": {},
   "outputs": [
    {
     "data": {
      "text/plain": [
       "49523"
      ]
     },
     "execution_count": 3,
     "metadata": {},
     "output_type": "execute_result"
    }
   ],
   "source": [
    "len((met['T'].delta_phi(leading_j['T']).sum()) > 1.5)"
   ]
  },
  {
   "cell_type": "code",
   "execution_count": 5,
   "metadata": {},
   "outputs": [
    {
     "data": {
      "text/plain": [
       "49523"
      ]
     },
     "execution_count": 5,
     "metadata": {},
     "output_type": "execute_result"
    }
   ],
   "source": [
    "len(abs((met['T'].delta_phi(leading_j['T'])).sum()) > 1.5)"
   ]
  },
  {
   "cell_type": "code",
   "execution_count": 21,
   "metadata": {},
   "outputs": [
    {
     "data": {
      "text/plain": [
       "array([1, 1, 1, ..., 1, 1, 1])"
      ]
     },
     "execution_count": 21,
     "metadata": {},
     "output_type": "execute_result"
    }
   ],
   "source": [
    "x&y"
   ]
  },
  {
   "cell_type": "code",
   "execution_count": 23,
   "metadata": {},
   "outputs": [],
   "source": [
    "e = events.Electron\n",
    "mu = events.Muon\n",
    "e['p4'] = TLorentzVectorArray.from_ptetaphim(e.pt, e.eta, e.phi, e.mass)\n",
    "mu['p4'] = TLorentzVectorArray.from_ptetaphim(mu.pt, mu.eta, mu.phi, mu.mass)\n",
    "LJ_Ele = leading_j['p4'].cross(e['p4'])\n",
    "DeltaR_LJ_Ele = LJ_Ele.i0.delta_r(LJ_Ele.i1)\n",
    "DeltaR_LJ_Ele_mask = (DeltaR_LJ_Ele < 3.4).any()\n",
    "\n",
    "LJ_Mu = leading_j['p4'].cross(mu['p4'])\n",
    "DeltaR_LJ_Mu = LJ_Mu.i0.delta_r(LJ_Mu.i1)\n",
    "DeltaR_LJ_Mu_mask = (DeltaR_LJ_Mu < 3.4).any()"
   ]
  },
  {
   "cell_type": "code",
   "execution_count": 42,
   "metadata": {},
   "outputs": [
    {
     "data": {
      "text/plain": [
       "dtype('int64')"
      ]
     },
     "execution_count": 42,
     "metadata": {},
     "output_type": "execute_result"
    }
   ],
   "source": [
    "((DeltaR_LJ_Mu < 3.4).sum()).dtype"
   ]
  },
  {
   "cell_type": "code",
   "execution_count": 43,
   "metadata": {},
   "outputs": [
    {
     "data": {
      "text/plain": [
       "dtype('bool')"
      ]
     },
     "execution_count": 43,
     "metadata": {},
     "output_type": "execute_result"
    }
   ],
   "source": [
    "((DeltaR_LJ_Mu < 3.4).any()).dtype"
   ]
  },
  {
   "cell_type": "code",
   "execution_count": 4,
   "metadata": {},
   "outputs": [],
   "source": [
    "#!/usr/bin/env python\n",
    "import lz4.frame as lz4f\n",
    "import cloudpickle\n",
    "import json\n",
    "import pprint\n",
    "import numpy as np\n",
    "import awkward\n",
    "np.seterr(divide='ignore', invalid='ignore', over='ignore')\n",
    "from coffea.arrays import Initialize\n",
    "from coffea import hist, processor\n",
    "from coffea.util import load, save\n",
    "from coffea.jetmet_tools import FactorizedJetCorrector, JetCorrectionUncertainty, JetTransformer, JetResolution, JetResolutionScaleFactor\n",
    "from optparse import OptionParser\n",
    "from uproot_methods import TVector2Array, TLorentzVectorArray"
   ]
  },
  {
   "cell_type": "code",
   "execution_count": 1,
   "metadata": {},
   "outputs": [
    {
     "name": "stdout",
     "output_type": "stream",
     "text": [
      "/uscms_data/d3/runiyal/lep_kr/decaf/analysis/Rishabh_jupyter-NB\r\n"
     ]
    }
   ],
   "source": [
    "!pwd"
   ]
  },
  {
   "cell_type": "code",
   "execution_count": 9,
   "metadata": {},
   "outputs": [],
   "source": [
    "get_corrections = load('../data/corrections.coffea')"
   ]
  },
  {
   "cell_type": "code",
   "execution_count": 11,
   "metadata": {},
   "outputs": [],
   "source": [
    "get_deepflav_weight = get_corrections['get_btag_weight']['deepflav']"
   ]
  },
  {
   "cell_type": "code",
   "execution_count": 16,
   "metadata": {},
   "outputs": [
    {
     "data": {
      "text/plain": [
       "<bound method BTagCorrector.btag_weight of <__main__.BTagCorrector object at 0x7f7f805fa978>>"
      ]
     },
     "execution_count": 16,
     "metadata": {},
     "output_type": "execute_result"
    }
   ],
   "source": [
    "get_deepflav_weight['2018']['loose']"
   ]
  },
  {
   "cell_type": "code",
   "execution_count": 22,
   "metadata": {},
   "outputs": [
    {
     "data": {
      "text/plain": [
       "array([-1,  1,  1,  1])"
      ]
     },
     "execution_count": 22,
     "metadata": {},
     "output_type": "execute_result"
    }
   ],
   "source": [
    "np.minimum(1, [-1,2,3,4])"
   ]
  },
  {
   "cell_type": "code",
   "execution_count": 29,
   "metadata": {},
   "outputs": [],
   "source": [
    "a = awkward.fromiter([[1,2],[3]])"
   ]
  },
  {
   "cell_type": "code",
   "execution_count": 30,
   "metadata": {},
   "outputs": [
    {
     "data": {
      "text/plain": [
       "array([2, 3])"
      ]
     },
     "execution_count": 30,
     "metadata": {},
     "output_type": "execute_result"
    }
   ],
   "source": [
    "a.prod()"
   ]
  },
  {
   "cell_type": "code",
   "execution_count": 7,
   "metadata": {},
   "outputs": [
    {
     "data": {
      "text/plain": [
       "23452"
      ]
     },
     "execution_count": 7,
     "metadata": {},
     "output_type": "execute_result"
    }
   ],
   "source": [
    "events.size"
   ]
  },
  {
   "cell_type": "code",
   "execution_count": 17,
   "metadata": {},
   "outputs": [
    {
     "data": {
      "text/plain": [
       "<JaggedArray [[1 -1 23 ... -211 22 22] [-1 1 23 ... -421 21 431] [-1 21 23 ... -14 22 22] ... [-1 1 23 23 -13 13] [2 -2 23 ... -11 22 11] [1 -1 23 ... 22 22 22]] at 0x7f48c70de358>"
      ]
     },
     "execution_count": 17,
     "metadata": {},
     "output_type": "execute_result"
    }
   ],
   "source": [
    "events.GenPart.pdgId"
   ]
  },
  {
   "cell_type": "code",
   "execution_count": 104,
   "metadata": {},
   "outputs": [],
   "source": [
    "# I want to select only events coming from  W [pdgId = 24]\n",
    "\n",
    "electron = events.Electron\n",
    "muons = events.Muon"
   ]
  },
  {
   "cell_type": "code",
   "execution_count": 106,
   "metadata": {},
   "outputs": [
    {
     "data": {
      "text/plain": [
       "['deltaEtaSC',\n",
       " 'dr03EcalRecHitSumEt',\n",
       " 'dr03HcalDepth1TowerSumEt',\n",
       " 'dr03TkSumPt',\n",
       " 'dr03TkSumPtHEEP',\n",
       " 'dxy',\n",
       " 'dxyErr',\n",
       " 'dz',\n",
       " 'dzErr',\n",
       " 'eCorr',\n",
       " 'eInvMinusPInv',\n",
       " 'energyErr',\n",
       " 'eta',\n",
       " 'hoe',\n",
       " 'ip3d',\n",
       " 'jetPtRelv2',\n",
       " 'jetRelIso',\n",
       " 'mass',\n",
       " 'miniPFRelIso_all',\n",
       " 'miniPFRelIso_chg',\n",
       " 'mvaFall17V1Iso',\n",
       " 'mvaFall17V1noIso',\n",
       " 'mvaFall17V2Iso',\n",
       " 'mvaFall17V2noIso',\n",
       " 'pfRelIso03_all',\n",
       " 'pfRelIso03_chg',\n",
       " 'phi',\n",
       " 'pt',\n",
       " 'r9',\n",
       " 'sieie',\n",
       " 'sip3d',\n",
       " 'mvaTTH',\n",
       " 'charge',\n",
       " 'cutBased',\n",
       " 'cutBased_Fall17_V1',\n",
       " 'pdgId',\n",
       " 'tightCharge',\n",
       " 'vidNestedWPBitmap',\n",
       " 'vidNestedWPBitmapHEEP',\n",
       " 'convVeto',\n",
       " 'cutBased_HEEP',\n",
       " 'isPFcand',\n",
       " 'lostHits',\n",
       " 'mvaFall17V1Iso_WP80',\n",
       " 'mvaFall17V1Iso_WP90',\n",
       " 'mvaFall17V1Iso_WPL',\n",
       " 'mvaFall17V1noIso_WP80',\n",
       " 'mvaFall17V1noIso_WP90',\n",
       " 'mvaFall17V1noIso_WPL',\n",
       " 'mvaFall17V2Iso_WP80',\n",
       " 'mvaFall17V2Iso_WP90',\n",
       " 'mvaFall17V2Iso_WPL',\n",
       " 'mvaFall17V2noIso_WP80',\n",
       " 'mvaFall17V2noIso_WP90',\n",
       " 'mvaFall17V2noIso_WPL',\n",
       " 'seedGain',\n",
       " 'genPartFlav',\n",
       " 'cleanmask',\n",
       " 'matched_jet',\n",
       " 'matched_gen',\n",
       " 'matched_photon',\n",
       " '_xref_GenPart_index']"
      ]
     },
     "execution_count": 106,
     "metadata": {},
     "output_type": "execute_result"
    }
   ],
   "source": [
    "electron.columns"
   ]
  },
  {
   "cell_type": "code",
   "execution_count": 6,
   "metadata": {},
   "outputs": [
    {
     "data": {
      "text/plain": [
       "['eta',\n",
       " 'mass',\n",
       " 'phi',\n",
       " 'pt',\n",
       " 'pdgId',\n",
       " 'status',\n",
       " 'statusFlags',\n",
       " 'parent',\n",
       " 'children']"
      ]
     },
     "execution_count": 6,
     "metadata": {},
     "output_type": "execute_result"
    }
   ],
   "source": [
    "electron.matched_gen.columns"
   ]
  },
  {
   "cell_type": "code",
   "execution_count": null,
   "metadata": {},
   "outputs": [],
   "source": []
  },
  {
   "cell_type": "code",
   "execution_count": 82,
   "metadata": {},
   "outputs": [],
   "source": [
    "wemu_events = events[(electron.counts >= 1) \n",
    "      | (electron.counts >= 1)]"
   ]
  },
  {
   "cell_type": "code",
   "execution_count": 83,
   "metadata": {},
   "outputs": [],
   "source": [
    "met = events.MET"
   ]
  },
  {
   "cell_type": "code",
   "execution_count": 84,
   "metadata": {},
   "outputs": [
    {
     "data": {
      "text/plain": [
       "['FsrPhoton',\n",
       " 'SoftActivityJetNjets5',\n",
       " 'GenMET',\n",
       " 'fixedGridRhoFastjetCentral',\n",
       " 'Flag',\n",
       " 'Jet',\n",
       " 'luminosityBlock',\n",
       " 'CaloMET',\n",
       " 'Photon',\n",
       " 'LHEPart',\n",
       " 'genWeight',\n",
       " 'GenJetAK8',\n",
       " 'SoftActivityJet',\n",
       " 'LHE',\n",
       " 'FatJet',\n",
       " 'GenPart',\n",
       " 'genTtbarId',\n",
       " 'SoftActivityJetHT2',\n",
       " 'HLTriggerFinalPath',\n",
       " 'event',\n",
       " 'GenDressedLepton',\n",
       " 'PuppiMET',\n",
       " 'MET',\n",
       " 'fixedGridRhoFastjetCentralCalo',\n",
       " 'SoftActivityJetHT5',\n",
       " 'Tau',\n",
       " 'LHEWeight',\n",
       " 'PSWeight',\n",
       " 'SoftActivityJetHT',\n",
       " 'btagWeight',\n",
       " 'Electron',\n",
       " 'LHEReweightingWeight',\n",
       " 'GenJet',\n",
       " 'fixedGridRhoFastjetAll',\n",
       " 'HLTriggerFirstPath',\n",
       " 'fixedGridRhoFastjetCentralNeutral',\n",
       " 'fixedGridRhoFastjetCentralChargedPileUp',\n",
       " 'SoftActivityJetNjets2',\n",
       " 'Pileup',\n",
       " 'SoftActivityJetNjets10',\n",
       " 'HLT',\n",
       " 'L1Reco',\n",
       " 'Generator',\n",
       " 'HTXS',\n",
       " 'SoftActivityJetHT10',\n",
       " 'TkMET',\n",
       " 'SubJet',\n",
       " 'SubGenJetAK8',\n",
       " 'OtherPV',\n",
       " 'LHEPdfWeight',\n",
       " 'IsoTrack',\n",
       " 'PV',\n",
       " 'ChsMET',\n",
       " 'GenVisTau',\n",
       " 'Muon',\n",
       " 'L1',\n",
       " 'RawMET',\n",
       " 'L1simulation',\n",
       " 'LHEScaleWeight',\n",
       " 'CorrT1METJet',\n",
       " 'TrigObj',\n",
       " 'run',\n",
       " 'SV']"
      ]
     },
     "execution_count": 84,
     "metadata": {},
     "output_type": "execute_result"
    }
   ],
   "source": [
    "wemu_events.columns"
   ]
  },
  {
   "cell_type": "code",
   "execution_count": 91,
   "metadata": {},
   "outputs": [
    {
     "data": {
      "text/plain": [
       "40"
      ]
     },
     "execution_count": 91,
     "metadata": {},
     "output_type": "execute_result"
    }
   ],
   "source": [
    "len(electron.pt)"
   ]
  },
  {
   "cell_type": "code",
   "execution_count": 92,
   "metadata": {},
   "outputs": [
    {
     "data": {
      "text/plain": [
       "<JaggedArray [[23 23] [23 23] [] ... [23 23] [] [23 23]] at 0x7fc0f425e4a8>"
      ]
     },
     "execution_count": 92,
     "metadata": {},
     "output_type": "execute_result"
    }
   ],
   "source": [
    "wemu_events.GenPart[\n",
    "    ((abs(wemu_events.GenPart.pdgId) == 11)\n",
    "    | (abs(wemu_events.GenPart.pdgId) == 13))\n",
    "    & wemu_events.GenPart.hasFlags(['isPrompt', 'isLastCopy'])\n",
    "].distinctParent.pdgId\n",
    "\n",
    "\n"
   ]
  },
  {
   "cell_type": "code",
   "execution_count": 93,
   "metadata": {},
   "outputs": [
    {
     "data": {
      "text/plain": [
       "<JaggedArray [[None None None ... 23 -15 -15] [None None None ... None None None] [None None None ... -413 -1 -1] ... [None None None -1 -1 -1] [None None None ... 23 23 23] [None None None ... 15 -15 -15]] at 0x7fc0f425ef60>"
      ]
     },
     "execution_count": 93,
     "metadata": {},
     "output_type": "execute_result"
    }
   ],
   "source": [
    "events.GenPart.parent.distinctParent.pdgId"
   ]
  },
  {
   "cell_type": "code",
   "execution_count": 97,
   "metadata": {},
   "outputs": [
    {
     "data": {
      "text/plain": [
       "array([ True,  True,  True,  True,  True,  True,  True,  True,  True,\n",
       "        True,  True,  True,  True,  True,  True,  True,  True,  True,\n",
       "        True,  True,  True,  True,  True,  True,  True,  True,  True,\n",
       "        True,  True,  True,  True,  True,  True,  True,  True,  True,\n",
       "        True,  True,  True,  True])"
      ]
     },
     "execution_count": 97,
     "metadata": {},
     "output_type": "execute_result"
    }
   ],
   "source": [
    "(events.GenPart.pdgId == 23).any()"
   ]
  },
  {
   "cell_type": "code",
   "execution_count": 99,
   "metadata": {},
   "outputs": [
    {
     "data": {
      "text/plain": [
       "['ecalBadCalibFilterV2',\n",
       " 'HBHENoiseFilter',\n",
       " 'HBHENoiseIsoFilter',\n",
       " 'CSCTightHaloFilter',\n",
       " 'CSCTightHaloTrkMuUnvetoFilter',\n",
       " 'CSCTightHalo2015Filter',\n",
       " 'globalTightHalo2016Filter',\n",
       " 'globalSuperTightHalo2016Filter',\n",
       " 'HcalStripHaloFilter',\n",
       " 'hcalLaserEventFilter',\n",
       " 'EcalDeadCellTriggerPrimitiveFilter',\n",
       " 'EcalDeadCellBoundaryEnergyFilter',\n",
       " 'ecalBadCalibFilter',\n",
       " 'goodVertices',\n",
       " 'eeBadScFilter',\n",
       " 'ecalLaserCorrFilter',\n",
       " 'trkPOGFilters',\n",
       " 'chargedHadronTrackResolutionFilter',\n",
       " 'muonBadTrackFilter',\n",
       " 'BadChargedCandidateFilter',\n",
       " 'BadPFMuonFilter',\n",
       " 'BadChargedCandidateSummer16Filter',\n",
       " 'BadPFMuonSummer16Filter',\n",
       " 'trkPOG_manystripclus53X',\n",
       " 'trkPOG_toomanystripclus53X',\n",
       " 'trkPOG_logErrorTooManyClusters',\n",
       " 'METFilters']"
      ]
     },
     "execution_count": 99,
     "metadata": {},
     "output_type": "execute_result"
    }
   ],
   "source": [
    "events.Flag.columns"
   ]
  },
  {
   "cell_type": "code",
   "execution_count": null,
   "metadata": {},
   "outputs": [],
   "source": []
  }
 ],
 "metadata": {
  "kernelspec": {
   "display_name": "Python 3",
   "language": "python",
   "name": "python3"
  },
  "language_info": {
   "codemirror_mode": {
    "name": "ipython",
    "version": 3
   },
   "file_extension": ".py",
   "mimetype": "text/x-python",
   "name": "python",
   "nbconvert_exporter": "python",
   "pygments_lexer": "ipython3",
   "version": "3.6.5"
  }
 },
 "nbformat": 4,
 "nbformat_minor": 2
}
