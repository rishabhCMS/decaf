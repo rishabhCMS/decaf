{
 "cells": [
  {
   "cell_type": "code",
   "execution_count": 1,
   "metadata": {},
   "outputs": [],
   "source": [
    "import concurrent.futures\n",
    "import cloudpickle\n",
    "import pickle\n",
    "import gzip\n",
    "import os\n",
    "import numpy as np\n",
    "from collections import defaultdict, OrderedDict\n",
    "from coffea import hist, processor \n",
    "from coffea.util import load, save\n",
    "from util.futures_patch import patch_mp_connection_bpo_17560"
   ]
  },
  {
   "cell_type": "code",
   "execution_count": 6,
   "metadata": {},
   "outputs": [
    {
     "name": "stdout",
     "output_type": "stream",
     "text": [
      "['ST_tW_top_5f_inclusiveDecays_TuneCP5_13TeV-powheg-pythia8____6_.futures', 'ZJetsToNuNu_HT-100To200_13TeV-madgraph____17_.futures', 'EGamma____112_.futures', 'EGamma____317_.futures', 'QCD_HT500to700_TuneCP5_13TeV-madgraphMLM-pythia8____35_.futures', 'EGamma____165_.futures', 'TTJets_TuneCP5_13TeV-amcatnloFXFX-pythia8____163_.futures', 'EGamma____88_.futures', 'QCD_HT1000to1500_TuneCP5_13TeV-madgraphMLM-pythia8____20_.futures', 'EGamma____155_.futures']\n"
     ]
    }
   ],
   "source": [
    "import os\n",
    "import random\n",
    "\n",
    "path ='../hists/darkhiggs2018/'\n",
    "files = os.listdir(path)\n",
    "index = random.randrange(0, 10)\n",
    "print(files[:10])\n",
    "for f in file:\n",
    "  "
   ]
  },
  {
   "cell_type": "code",
   "execution_count": 10,
   "metadata": {},
   "outputs": [
    {
     "data": {
      "text/plain": [
       "{'sumw': <Hist (dataset,sumw) instance at 0x7f1c17b7ae10>,\n",
       " 'cutflow': <Hist (dataset,region,cut) instance at 0x7f1c17b71ac8>,\n",
       " 'template': <Hist (dataset,region,systematic,gentype,recoil,fjmass,ZHbbvsQCD) instance at 0x7f1c17b71160>,\n",
       " 'recoil': <Hist (dataset,region,gentype,recoil) instance at 0x7f1c17a2e128>,\n",
       " 'recoilphiWRF': <Hist (dataset,region,gentype,recoilphiWRF) instance at 0x7f1c17a2e908>,\n",
       " 'mindphirecoil': <Hist (dataset,region,gentype,mindphirecoil) instance at 0x7f1c17a2ef60>,\n",
       " 'fjmass': <Hist (dataset,region,gentype,fjmass) instance at 0x7f1c17a35828>,\n",
       " 'CaloMinusPfOverRecoil': <Hist (dataset,region,gentype,CaloMinusPfOverRecoil) instance at 0x7f1c17a35fd0>,\n",
       " 'met': <Hist (dataset,region,gentype,met) instance at 0x7f1c17a3b908>,\n",
       " 'metphi': <Hist (dataset,region,gentype,metphi) instance at 0x7f1c17a40128>,\n",
       " 'mindphimet': <Hist (dataset,region,gentype,mindphimet) instance at 0x7f1c17a40978>,\n",
       " 'j1pt': <Hist (dataset,region,gentype,j1pt) instance at 0x7f1c17a47208>,\n",
       " 'j1eta': <Hist (dataset,region,gentype,j1eta) instance at 0x7f1c17a47ac8>,\n",
       " 'j1phi': <Hist (dataset,region,gentype,j1phi) instance at 0x7f1c179ce358>,\n",
       " 'fj1pt': <Hist (dataset,region,gentype,fj1pt) instance at 0x7f1c179ceba8>,\n",
       " 'fj1rho': <Hist (dataset,region,gentype,fj1rho) instance at 0x7f1c179d54a8>,\n",
       " 'fj1eta': <Hist (dataset,region,gentype,fj1eta) instance at 0x7f1c179d5cf8>,\n",
       " 'fj1phi': <Hist (dataset,region,gentype,fj1phi) instance at 0x7f1c179db588>,\n",
       " 'njets': <Hist (dataset,region,gentype,njets) instance at 0x7f1c179dbdd8>,\n",
       " 'ndflvL': <Hist (dataset,region,gentype,ndflvL) instance at 0x7f1c179e3668>,\n",
       " 'nfjclean': <Hist (dataset,region,gentype,nfjclean) instance at 0x7f1c179e3e80>,\n",
       " 'mT': <Hist (dataset,region,gentype,mT) instance at 0x7f1c179e8710>,\n",
       " 'dphilep': <Hist (dataset,region,gentype,dphilep) instance at 0x7f1c179e8da0>,\n",
       " 'l1pt': <Hist (dataset,region,gentype,l1pt) instance at 0x7f1c179f2588>,\n",
       " 'l1eta': <Hist (dataset,region,gentype,l1eta) instance at 0x7f1c179f2e48>,\n",
       " 'l1phi': <Hist (dataset,region,gentype,l1phi) instance at 0x7f1c179f95c0>,\n",
       " 'dilepmass': <Hist (dataset,region,gentype,dilepmass) instance at 0x7f1c179f9cf8>,\n",
       " 'dileppt': <Hist (dataset,region,gentype,dileppt) instance at 0x7f1c179ff240>,\n",
       " 'drlep': <Hist (dataset,region,gentype,drlep) instance at 0x7f1c179ff780>,\n",
       " 'ZHbbvsQCD': <Hist (dataset,region,gentype,ZHbbvsQCD) instance at 0x7f1c179ffc18>,\n",
       " 'TvsQCD': <Hist (dataset,region,gentype,TvsQCD) instance at 0x7f1c17a044a8>,\n",
       " 'XvsQCD': <Hist (dataset,region,gentype,XvsQCD) instance at 0x7f1c17a04cf8>}"
      ]
     },
     "execution_count": 10,
     "metadata": {},
     "output_type": "execute_result"
    }
   ],
   "source": [
    "load('../hists/darkhiggs2018/ST_tW_top_5f_inclusiveDecays_TuneCP5_13TeV-powheg-pythia8____6_.futures')"
   ]
  },
  {
   "cell_type": "code",
   "execution_count": null,
   "metadata": {},
   "outputs": [],
   "source": [
    "def reduce(folder,_dataset=None,variable=None):\n",
    "\n",
    "    lists = {}\n",
    "    for filename in os.listdir(folder):\n",
    "        if '.futures' not in filename: continue\n",
    "        if filename.split(\"____\")[0] not in lists: lists[filename.split(\"____\")[0]] = []\n",
    "        lists[filename.split(\"____\")[0]].append(folder+'/'+filename)\n",
    "          \n",
    "    for pdi in lists.keys():\n",
    "          if _dataset is not None and _dataset not in pdi: continue\n",
    "          tmp={}\n",
    "          for filename in lists[pdi]:\n",
    "               print('Opening:',filename)\n",
    "               hin = load(filename)\n",
    "          for k in hin.keys():\n",
    "            if variable is not None and k!=variable: continue\n",
    "            print('Considering variable',k)\n",
    "            if k not in tmp: tmp[k]=[hin[k]]\n",
    "            else: tmp[k].append(hin[k])\n",
    "          del hin\n",
    "      for k in tmp:\n",
    "        tmp_arr=futuresum(np.array(tmp[k]))\n",
    "        hists = {}\n",
    "        hists[k]=tmp_arr[0]\n",
    "        dataset = hist.Cat(\"dataset\", \"dataset\", sorting='placement')\n",
    "        dataset_cats = (\"dataset\",)\n",
    "        dataset_map = OrderedDict()\n",
    "      for d in hists[k].identifiers('dataset'):\n",
    "          if d.name.split(\"____\")[0] not in dataset_map: dataset_map[d.name.split(\"____\")[0]] = (d.name.split(\"____\")[0]+\"*\",)\n",
    "        hists[k] = hists[k].group(dataset_cats, dataset, dataset_map)\n",
    "        print(hists)\n",
    "        save(hists, folder+'/'+k+'--'+pdi+'.reduced')"
   ]
  },
  {
   "cell_type": "code",
   "execution_count": 17,
   "metadata": {},
   "outputs": [
    {
     "data": {
      "text/plain": [
       "[array([0., 1.]), array([2., 3.]), array([4.]), array([5.]), array([6.])]"
      ]
     },
     "execution_count": 17,
     "metadata": {},
     "output_type": "execute_result"
    }
   ],
   "source": [
    "import numpy as np\n",
    "x = np.arange(7.0)\n",
    "np.array_split(x, 5)"
   ]
  },
  {
   "cell_type": "code",
   "execution_count": 13,
   "metadata": {},
   "outputs": [
    {
     "data": {
      "text/plain": [
       "array([0., 1., 2., 3., 4., 5., 6.])"
      ]
     },
     "execution_count": 13,
     "metadata": {},
     "output_type": "execute_result"
    }
   ],
   "source": [
    "x"
   ]
  },
  {
   "cell_type": "code",
   "execution_count": 18,
   "metadata": {},
   "outputs": [
    {
     "data": {
      "text/plain": [
       "{'sumw': <Hist (dataset,sumw) instance at 0x7f1c17b7ab70>,\n",
       " 'mT': <Hist (dataset,region,mT) instance at 0x7f1c179cf278>,\n",
       " 'eT_miss': <Hist (dataset,region,eT) instance at 0x7f1c179cf710>,\n",
       " 'ele_pT': <Hist (dataset,region,pT) instance at 0x7f1c179cf9e8>,\n",
       " 'mu_pT': <Hist (dataset,region,pT) instance at 0x7f1c179cfcc0>,\n",
       " 'jet_pT': <Hist (dataset,region,pT) instance at 0x7f1c179cff60>,\n",
       " 'dphi_e_etmiss': <Hist (dataset,region,dphi) instance at 0x7f1c17991080>,\n",
       " 'dphi_mu_etmiss': <Hist (dataset,region,dphi) instance at 0x7f1c17991198>,\n",
       " 'cutflow': defaultdict_accumulator(int,\n",
       "                         {'all events': 608195,\n",
       "                          'tight_e': 48148,\n",
       "                          'tight_mu': 77654,\n",
       "                          'loose_e': 109615,\n",
       "                          'loose_mu': 109910,\n",
       "                          'met>100': 32,\n",
       "                          'met_triggers': 37958,\n",
       "                          'ele_triggers': 66109,\n",
       "                          'mu_triggers': 92889,\n",
       "                          'Delta_Phi_Met_LJ': 208580,\n",
       "                          'DeltaR_LJ_Mu': 70864,\n",
       "                          'exactly_1_medium_btag': 247601,\n",
       "                          'DeltaR_LJ_Ele': 44135})}"
      ]
     },
     "execution_count": 18,
     "metadata": {},
     "output_type": "execute_result"
    }
   ],
   "source": [
    "load('TTJets_TuneCP5_13TeV-amcatnloFXFX-pythia8____162_.futures')"
   ]
  },
  {
   "cell_type": "code",
   "execution_count": 38,
   "metadata": {},
   "outputs": [
    {
     "data": {
      "text/plain": [
       "<matplotlib.axes._subplots.AxesSubplot at 0x7f1c1270f9b0>"
      ]
     },
     "execution_count": 38,
     "metadata": {},
     "output_type": "execute_result"
    },
    {
     "data": {
      "image/png": "[encoded data removed]",
      "text/plain": [
       "<Figure size 432x288 with 1 Axes>"
      ]
     },
     "metadata": {
      "needs_background": "light"
     },
     "output_type": "display_data"
    }
   ],
   "source": [
    "hist.plot1d((load('MET____46_.futures') + load('MET____46_.futures'))['mT'].integrate('region'))"
   ]
  },
  {
   "cell_type": "code",
   "execution_count": 36,
   "metadata": {},
   "outputs": [
    {
     "data": {
      "text/plain": [
       "<matplotlib.axes._subplots.AxesSubplot at 0x7f1c1270f2b0>"
      ]
     },
     "execution_count": 36,
     "metadata": {},
     "output_type": "execute_result"
    },
    {
     "data": {
      "image/png": "[encoded data removed]",
      "text/plain": [
       "<Figure size 432x288 with 1 Axes>"
      ]
     },
     "metadata": {
      "needs_background": "light"
     },
     "output_type": "display_data"
    }
   ],
   "source": [
    "hist.plot1d(load('MET____46_.futures')['mT'].integrate('region'))"
   ]
  },
  {
   "cell_type": "code",
   "execution_count": 22,
   "metadata": {},
   "outputs": [
    {
     "data": {
      "text/plain": [
       "defaultdict_accumulator(int,\n",
       "                        {'all events': 2371954,\n",
       "                         'tight_e': 29268,\n",
       "                         'tight_mu': 81046,\n",
       "                         'loose_e': 93425,\n",
       "                         'loose_mu': 121787,\n",
       "                         'met>100': 64,\n",
       "                         'met_triggers': 808050,\n",
       "                         'ele_triggers': 64338,\n",
       "                         'mu_triggers': 114605,\n",
       "                         'Delta_Phi_Met_LJ': 926079,\n",
       "                         'DeltaR_LJ_Mu': 71906,\n",
       "                         'exactly_1_medium_btag': 591531,\n",
       "                         'DeltaR_LJ_Ele': 25911})"
      ]
     },
     "execution_count": 22,
     "metadata": {},
     "output_type": "execute_result"
    }
   ],
   "source": [
    "load('ST_t-channel_antitop_4f_InclusiveDecays_TuneCP5_13TeV-powheg-madspin-pythia8____74_.futures')['cutflow'] + load('MET____46_.futures')['cutflow']"
   ]
  },
  {
   "cell_type": "code",
   "execution_count": null,
   "metadata": {},
   "outputs": [],
   "source": []
  }
 ],
 "metadata": {
  "kernelspec": {
   "display_name": "Python 3",
   "language": "python",
   "name": "python3"
  },
  "language_info": {
   "codemirror_mode": {
    "name": "ipython",
    "version": 3
   },
   "file_extension": ".py",
   "mimetype": "text/x-python",
   "name": "python",
   "nbconvert_exporter": "python",
   "pygments_lexer": "ipython3",
   "version": "3.6.5"
  }
 },
 "nbformat": 4,
 "nbformat_minor": 2
}
