{
 "cells": [
  {
   "cell_type": "code",
   "execution_count": 3,
   "metadata": {},
   "outputs": [],
   "source": [
    "#!/usr/bin/env python\n",
    "import lz4.frame as lz4f\n",
    "import cloudpickle\n",
    "import json\n",
    "import pprint\n",
    "import numpy as np\n",
    "import awkward\n",
    "np.seterr(divide='ignore', invalid='ignore', over='ignore')\n",
    "from coffea.arrays import Initialize\n",
    "from coffea import hist, processor\n",
    "from coffea.util import load, save\n",
    "from coffea.jetmet_tools import FactorizedJetCorrector, JetCorrectionUncertainty, JetTransformer, JetResolution, JetResolutionScaleFactor\n",
    "from optparse import OptionParser\n",
    "from uproot_methods import TVector2Array, TLorentzVectorArray"
   ]
  },
  {
   "cell_type": "markdown",
   "metadata": {},
   "source": [
    "### Baseline Event selection 2018\n",
    "\n",
    "general:\n",
    "\n",
    "1. $E^T_{miss}$≥ 100 GeV\n",
    "2. no loose $\\gamma$\n",
    "3. 1(0) tight(loose) e($\\mu$) or 1(0) tight(loose) ($\\mu$)(e)\n",
    "4. ele triggers for e events\n",
    "5. $\\mu$ triggers for ($\\mu$) events\n",
    "6. $\\delta$φ(leading AK4 jet, MET)> 1.5\n",
    "7. $\\delta$R(leading AK4 jet, $e$ / $\\mu$)< 3.4"
   ]
  },
  {
   "cell_type": "code",
   "execution_count": 47,
   "metadata": {},
   "outputs": [],
   "source": [
    "class testprocessor(processor.ProcessorABC):\n",
    "    def __init__(self):\n",
    "        \n",
    "\n",
    "\n",
    "        self._accumulator = processor.dict_accumulator({ \n",
    "#             'mT': hist.Hist(\n",
    "#                 'Events',\n",
    "#                 hist.Cat('dataset', 'Dataset'),\n",
    "#                 hist.Cat('region', 'Region'),\n",
    "#                 hist.Bin('mT','Transverse Mass',100,0,600)),\n",
    "            \n",
    "            'ele_pt': hist.Hist(\n",
    "                'Events',\n",
    "                hist.Cat('dataset', 'dataset'),\n",
    "                hist.Cat('region', 'Region'),\n",
    "                hist.Bin('pT', 'Leading $e_{pT}$ GeV', 40,0,200)),\n",
    "            \n",
    "            'ele_eta': hist.Hist(\n",
    "                'Events',\n",
    "                hist.Cat('dataset', 'dataset'),\n",
    "                hist.Cat('region', 'Region'),\n",
    "                hist.Bin('eta', 'Leading $e_{\\eta}$ ', 10,-2.5, 2.5)),\n",
    "        \n",
    "            'mu_pt': hist.Hist(\n",
    "                'Events',\n",
    "                hist.Cat('dataset', 'dataset'),\n",
    "                hist.Cat('region', 'Region'),\n",
    "                hist.Bin('pT', 'Leading $\\mu_{pT}$ GeV', 40,0,200)),\n",
    "            \n",
    "            'mu_eta': hist.Hist(\n",
    "                'Events',\n",
    "                hist.Cat('dataset', 'dataset'),\n",
    "                hist.Cat('region', 'Region'),\n",
    "                hist.Bin('eta', 'Leading $\\mu_{\\eta}$ GeV', 10,-2.5, 2.5))\n",
    "        }\n",
    "        )\n",
    "        \n",
    "    @property\n",
    "    def accumulator(self):\n",
    "        return self._accumulator\n",
    "    \n",
    "    def process(self, events):\n",
    " \n",
    "\n",
    "        ## This gets us the accumulator dictionary we defined in init\n",
    "        output = self.accumulator.identity()\n",
    "\n",
    "\n",
    "        dataset = events.metadata['dataset']\n",
    "        \n",
    "        \n",
    "        Electron = events.Electron\n",
    "        LeadingEle = Electron[Electron.pt.argmax()]\n",
    "        LeadingEle = LeadingEle[((LeadingEle.pt>40)&(abs(LeadingEle.eta)<1.4442)&(abs(LeadingEle.dxy)<0.05)&(abs(LeadingEle.dz)<0.1)&(LeadingEle.cutBased==4)) | ((LeadingEle.pt>40)&(abs(LeadingEle.eta)>1.5660)&(abs(LeadingEle.eta)<2.5)&(abs(LeadingEle.dxy)<0.1)&(abs(LeadingEle.dz)<0.2)&(LeadingEle.cutBased==4))]\n",
    "        output['ele_pt'].fill(dataset=dataset,\n",
    "                             region='everthing',\n",
    "                             pT = LeadingEle.pt.flatten())\n",
    "        output['ele_eta'].fill(dataset=dataset,\n",
    "                             region='everthing',\n",
    "                             eta = LeadingEle.eta.flatten())\n",
    "        \n",
    "        Muon = events.Muon\n",
    "        LeadingMu = Muon[Muon.pt.argmax()]    \n",
    "        LeadingMu = LeadingMu[(LeadingMu.pt>30)&(abs(LeadingMu.eta)<2.4)&(LeadingMu.tightId)&(LeadingMu.pfRelIso04_all<0.15)]\n",
    "        output['mu_pt'].fill(dataset=dataset,\n",
    "                             region='everthing',\n",
    "                             pT = LeadingMu.pt.flatten())\n",
    "        output['mu_eta'].fill(dataset=dataset,\n",
    "                             region='everthing',\n",
    "                             eta = LeadingMu.eta.flatten())\n",
    "        \n",
    "        return output   \n",
    "    def postprocess(self, accumulator):\n",
    "        return accumulator    "
   ]
  },
  {
   "cell_type": "code",
   "execution_count": 48,
   "metadata": {},
   "outputs": [
    {
     "data": {
      "application/vnd.jupyter.widget-view+json": {
       "model_id": "02c850dde3b24a36be34b3766ed28de5",
       "version_major": 2,
       "version_minor": 0
      },
      "text/plain": [
       "HBox(children=(FloatProgress(value=0.0, description='Processing', max=32.0, style=ProgressStyle(description_wi…"
      ]
     },
     "metadata": {},
     "output_type": "display_data"
    },
    {
     "name": "stdout",
     "output_type": "stream",
     "text": [
      "\n"
     ]
    }
   ],
   "source": [
    "fileset = {'EGamma':\n",
    "[\n",
    "            \"root://cmseos.fnal.gov//store/group/lpccoffea/coffeabeans/NanoAODv6/nano_2018/EGamma/NanoTuples-2018_Run2018D-22Jan2019-v2/191206_203351/0005/nano_5077.root\",\n",
    "            \"root://cmseos.fnal.gov//store/group/lpccoffea/coffeabeans/NanoAODv6/nano_2018/EGamma/NanoTuples-2018_Run2018D-22Jan2019-v2/191206_203351/0005/nano_5078.root\",\n",
    "            \"root://cmseos.fnal.gov//store/group/lpccoffea/coffeabeans/NanoAODv6/nano_2018/EGamma/NanoTuples-2018_Run2018D-22Jan2019-v2/191206_203351/0005/nano_5079.root\",\n",
    "            \"root://cmseos.fnal.gov//store/group/lpccoffea/coffeabeans/NanoAODv6/nano_2018/EGamma/NanoTuples-2018_Run2018D-22Jan2019-v2/191206_203351/0005/nano_5080.root\",\n",
    "            \"root://cmseos.fnal.gov//store/group/lpccoffea/coffeabeans/NanoAODv6/nano_2018/EGamma/NanoTuples-2018_Run2018D-22Jan2019-v2/191206_203351/0005/nano_5081.root\",\n",
    "            \"root://cmseos.fnal.gov//store/group/lpccoffea/coffeabeans/NanoAODv6/nano_2018/EGamma/NanoTuples-2018_Run2018D-22Jan2019-v2/191206_203351/0005/nano_5082.root\",\n",
    "            \"root://cmseos.fnal.gov//store/group/lpccoffea/coffeabeans/NanoAODv6/nano_2018/EGamma/NanoTuples-2018_Run2018D-22Jan2019-v2/191206_203351/0005/nano_5083.root\",\n",
    "            \"root://cmseos.fnal.gov//store/group/lpccoffea/coffeabeans/NanoAODv6/nano_2018/EGamma/NanoTuples-2018_Run2018D-22Jan2019-v2/191206_203351/0005/nano_5084.root\",\n",
    "            \"root://cmseos.fnal.gov//store/group/lpccoffea/coffeabeans/NanoAODv6/nano_2018/EGamma/NanoTuples-2018_Run2018D-22Jan2019-v2/191206_203351/0005/nano_5085.root\",\n",
    "            \"root://cmseos.fnal.gov//store/group/lpccoffea/coffeabeans/NanoAODv6/nano_2018/EGamma/NanoTuples-2018_Run2018D-22Jan2019-v2/191206_203351/0005/nano_5086.root\",\n",
    "            \"root://cmseos.fnal.gov//store/group/lpccoffea/coffeabeans/NanoAODv6/nano_2018/EGamma/NanoTuples-2018_Run2018D-22Jan2019-v2/191206_203351/0005/nano_5087.root\",\n",
    "            \"root://cmseos.fnal.gov//store/group/lpccoffea/coffeabeans/NanoAODv6/nano_2018/EGamma/NanoTuples-2018_Run2018D-22Jan2019-v2/191206_203351/0005/nano_5088.root\",\n",
    "            \"root://cmseos.fnal.gov//store/group/lpccoffea/coffeabeans/NanoAODv6/nano_2018/EGamma/NanoTuples-2018_Run2018D-22Jan2019-v2/191206_203351/0005/nano_5089.root\",\n",
    "            \"root://cmseos.fnal.gov//store/group/lpccoffea/coffeabeans/NanoAODv6/nano_2018/EGamma/NanoTuples-2018_Run2018D-22Jan2019-v2/191206_203351/0005/nano_5090.root\",\n",
    "            \"root://cmseos.fnal.gov//store/group/lpccoffea/coffeabeans/NanoAODv6/nano_2018/EGamma/NanoTuples-2018_Run2018D-22Jan2019-v2/191206_203351/0005/nano_5091.root\",\n",
    "            \"root://cmseos.fnal.gov//store/group/lpccoffea/coffeabeans/NanoAODv6/nano_2018/EGamma/NanoTuples-2018_Run2018D-22Jan2019-v2/191206_203351/0005/nano_5092.root\",\n",
    "            \"root://cmseos.fnal.gov//store/group/lpccoffea/coffeabeans/NanoAODv6/nano_2018/EGamma/NanoTuples-2018_Run2018D-22Jan2019-v2/191206_203351/0005/nano_5093.root\",\n",
    "            \"root://cmseos.fnal.gov//store/group/lpccoffea/coffeabeans/NanoAODv6/nano_2018/EGamma/NanoTuples-2018_Run2018D-22Jan2019-v2/191206_203351/0005/nano_5094.root\",\n",
    "            \"root://cmseos.fnal.gov//store/group/lpccoffea/coffeabeans/NanoAODv6/nano_2018/EGamma/NanoTuples-2018_Run2018D-22Jan2019-v2/191206_203351/0005/nano_5095.root\",\n",
    "            \"root://cmseos.fnal.gov//store/group/lpccoffea/coffeabeans/NanoAODv6/nano_2018/EGamma/NanoTuples-2018_Run2018D-22Jan2019-v2/191206_203351/0005/nano_5096.root\",\n",
    "            \"root://cmseos.fnal.gov//store/group/lpccoffea/coffeabeans/NanoAODv6/nano_2018/EGamma/NanoTuples-2018_Run2018D-22Jan2019-v2/191206_203351/0005/nano_5097.root\",\n",
    "            \"root://cmseos.fnal.gov//store/group/lpccoffea/coffeabeans/NanoAODv6/nano_2018/EGamma/NanoTuples-2018_Run2018D-22Jan2019-v2/191206_203351/0005/nano_5098.root\",\n",
    "            \"root://cmseos.fnal.gov//store/group/lpccoffea/coffeabeans/NanoAODv6/nano_2018/EGamma/NanoTuples-2018_Run2018D-22Jan2019-v2/191206_203351/0005/nano_5099.root\",\n",
    "            \"root://cmseos.fnal.gov//store/group/lpccoffea/coffeabeans/NanoAODv6/nano_2018/EGamma/NanoTuples-2018_Run2018D-22Jan2019-v2/191206_203351/0005/nano_5100.root\",\n",
    "            \"root://cmseos.fnal.gov//store/group/lpccoffea/coffeabeans/NanoAODv6/nano_2018/EGamma/NanoTuples-2018_Run2018D-22Jan2019-v2/191206_203351/0005/nano_5101.root\",\n",
    "            \"root://cmseos.fnal.gov//store/group/lpccoffea/coffeabeans/NanoAODv6/nano_2018/EGamma/NanoTuples-2018_Run2018D-22Jan2019-v2/191206_203351/0005/nano_5102.root\",\n",
    "            \"root://cmseos.fnal.gov//store/group/lpccoffea/coffeabeans/NanoAODv6/nano_2018/EGamma/NanoTuples-2018_Run2018D-22Jan2019-v2/191206_203351/0005/nano_5103.root\",\n",
    "            \"root://cmseos.fnal.gov//store/group/lpccoffea/coffeabeans/NanoAODv6/nano_2018/EGamma/NanoTuples-2018_Run2018D-22Jan2019-v2/191206_203351/0005/nano_5104.root\",\n",
    "            \"root://cmseos.fnal.gov//store/group/lpccoffea/coffeabeans/NanoAODv6/nano_2018/EGamma/NanoTuples-2018_Run2018D-22Jan2019-v2/191206_203351/0005/nano_5105.root\",\n",
    "            \"root://cmseos.fnal.gov//store/group/lpccoffea/coffeabeans/NanoAODv6/nano_2018/EGamma/NanoTuples-2018_Run2018D-22Jan2019-v2/191206_203351/0005/nano_5106.root\",\n",
    "            \"root://cmseos.fnal.gov//store/group/lpccoffea/coffeabeans/NanoAODv6/nano_2018/EGamma/NanoTuples-2018_Run2018D-22Jan2019-v2/191206_203351/0005/nano_5107.root\",\n",
    "            \"root://cmseos.fnal.gov//store/group/lpccoffea/coffeabeans/NanoAODv6/nano_2018/EGamma/NanoTuples-2018_Run2018D-22Jan2019-v2/191206_203351/0005/nano_5108.root\"\n",
    "        ]}\n",
    "#Run Coffea code using uproot\n",
    "output = processor.run_uproot_job(fileset,\n",
    "                                  treename='Events',\n",
    "                                  processor_instance=testprocessor(),\n",
    "                                  executor=processor.futures_executor,\n",
    "                                  executor_args={'workers': 4, 'flatten': True, 'nano':True},\n",
    "                                 )"
   ]
  },
  {
   "cell_type": "code",
   "execution_count": null,
   "metadata": {},
   "outputs": [],
   "source": [
    "if __name__ == '__main__':\n",
    "    parser = OptionParser()\n",
    "    parser.add_option('-y', '--year', help='year', dest='year')\n",
    "    (options, args) = parser.parse_args()\n",
    "\n",
    "\n",
    "    with open('metadata/'+options.year+'.json') as fin:\n",
    "        samplefiles = json.load(fin)\n",
    "        xsec = {k: v['xs'] for k,v in samplefiles.items()}\n",
    "\n",
    "    corrections = load('data/corrections.coffea')\n",
    "    ids         = load('data/ids.coffea')\n",
    "    common      = load('data/common.coffea')\n",
    "\n",
    "    processor_instance=AnalysisProcessor(year=options.year,\n",
    "                                         xsec=xsec,\n",
    "                                         corrections=corrections,\n",
    "                                         ids=ids,\n",
    "                                         common=common)\n",
    "\n",
    "    save(processor_instance, 'data/darkhiggs'+options.year+'.processor')"
   ]
  },
  {
   "cell_type": "code",
   "execution_count": 43,
   "metadata": {},
   "outputs": [
    {
     "data": {
      "text/plain": [
       "<matplotlib.axes._subplots.AxesSubplot at 0x7fe39d4239b0>"
      ]
     },
     "execution_count": 43,
     "metadata": {},
     "output_type": "execute_result"
    },
    {
     "data": {
      "image/png": "[encoded data removed]",
      "text/plain": [
       "<Figure size 432x288 with 1 Axes>"
      ]
     },
     "metadata": {
      "needs_background": "light"
     },
     "output_type": "display_data"
    }
   ],
   "source": [
    "hist.plot1d(output['ele_pt'].integrate('dataset')) # before"
   ]
  },
  {
   "cell_type": "code",
   "execution_count": 44,
   "metadata": {},
   "outputs": [
    {
     "data": {
      "text/plain": [
       "<matplotlib.axes._subplots.AxesSubplot at 0x7fe39d31fd68>"
      ]
     },
     "execution_count": 44,
     "metadata": {},
     "output_type": "execute_result"
    },
    {
     "data": {
      "image/png": "[encoded data removed]",
      "text/plain": [
       "<Figure size 432x288 with 1 Axes>"
      ]
     },
     "metadata": {
      "needs_background": "light"
     },
     "output_type": "display_data"
    }
   ],
   "source": [
    "hist.plot1d(output['ele_eta'].integrate('dataset')) #after"
   ]
  },
  {
   "cell_type": "code",
   "execution_count": 45,
   "metadata": {},
   "outputs": [
    {
     "data": {
      "text/plain": [
       "<matplotlib.axes._subplots.AxesSubplot at 0x7fe39d2db278>"
      ]
     },
     "execution_count": 45,
     "metadata": {},
     "output_type": "execute_result"
    },
    {
     "data": {
      "image/png": "[encoded data removed]",
      "text/plain": [
       "<Figure size 432x288 with 1 Axes>"
      ]
     },
     "metadata": {
      "needs_background": "light"
     },
     "output_type": "display_data"
    }
   ],
   "source": [
    "hist.plot1d(output['mu_pt'].integrate('dataset')) #after"
   ]
  },
  {
   "cell_type": "code",
   "execution_count": 46,
   "metadata": {},
   "outputs": [
    {
     "data": {
      "text/plain": [
       "<matplotlib.axes._subplots.AxesSubplot at 0x7fe39d257f28>"
      ]
     },
     "execution_count": 46,
     "metadata": {},
     "output_type": "execute_result"
    },
    {
     "data": {
      "image/png": "[encoded data removed]",
      "text/plain": [
       "<Figure size 432x288 with 1 Axes>"
      ]
     },
     "metadata": {
      "needs_background": "light"
     },
     "output_type": "display_data"
    }
   ],
   "source": [
    "hist.plot1d(output['mu_eta'].integrate('dataset')) #after"
   ]
  },
  {
   "cell_type": "code",
   "execution_count": null,
   "metadata": {},
   "outputs": [],
   "source": []
  },
  {
   "cell_type": "code",
   "execution_count": null,
   "metadata": {},
   "outputs": [],
   "source": []
  }
 ],
 "metadata": {
  "kernelspec": {
   "display_name": "Python 3",
   "language": "python",
   "name": "python3"
  },
  "language_info": {
   "codemirror_mode": {
    "name": "ipython",
    "version": 3
   },
   "file_extension": ".py",
   "mimetype": "text/x-python",
   "name": "python",
   "nbconvert_exporter": "python",
   "pygments_lexer": "ipython3",
   "version": "3.6.5"
  }
 },
 "nbformat": 4,
 "nbformat_minor": 2
}
