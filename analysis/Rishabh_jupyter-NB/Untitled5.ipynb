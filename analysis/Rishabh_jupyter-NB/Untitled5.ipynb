{
 "cells": [
  {
   "cell_type": "code",
   "execution_count": 14,
   "metadata": {},
   "outputs": [],
   "source": [
    "processes = {     ('GJets_HT-100To200_TuneCUETP8M1_13TeV-madgraphMLM-pythia8',2018):('GJets_ht100to200','MC',9239),\n",
    "    ('GJets_HT-200To400_TuneCUETP8M1_13TeV-madgraphMLM-pythia8'):('GJets_ht200to400','MC',2303),\n",
    "    ('GJets_HT-400To600_TuneCUETP8M1_13TeV-madgraphMLM-pythia8',2016):('GJets_ht400to600','MC',274.5),\n",
    "    ('GJets_HT-600ToInf_TuneCUETP8M1_13TeV-madgraphMLM-pythia8',2016):('GJets_ht600toinf','MC',93.53),}"
   ]
  },
  {
   "cell_type": "code",
   "execution_count": 15,
   "metadata": {},
   "outputs": [
    {
     "name": "stdout",
     "output_type": "stream",
     "text": [
      "{'GJets_HT-100To200_TuneCUETP8M1_13TeV-madgraphMLM-pythia8': 9239, 'GJets_HT-200To400_TuneCUETP8M1_13TeV-madgraphMLM-pythia8': 2303}\n"
     ]
    }
   ],
   "source": [
    "xsections={}\n",
    "year = '2018'\n",
    "for k,v in processes.items():\n",
    "    if v[1]=='MC':\n",
    "        if not isinstance(k, str):\n",
    "#           print(k)\n",
    "#           print(year,k[1])\n",
    "          if year!=str(k[1]): continue\n",
    "          xsections[k[0]] = v[2]\n",
    "        else: \n",
    "          xsections[k] = v[2]\n",
    "    else:\n",
    "        xsections[k] = -1\n",
    "print(xsections)"
   ]
  },
  {
   "cell_type": "code",
   "execution_count": null,
   "metadata": {},
   "outputs": [],
   "source": []
  },
  {
   "cell_type": "code",
   "execution_count": null,
   "metadata": {},
   "outputs": [],
   "source": []
  }
 ],
 "metadata": {
  "kernelspec": {
   "display_name": "Python 3",
   "language": "python",
   "name": "python3"
  },
  "language_info": {
   "codemirror_mode": {
    "name": "ipython",
    "version": 3
   },
   "file_extension": ".py",
   "mimetype": "text/x-python",
   "name": "python",
   "nbconvert_exporter": "python",
   "pygments_lexer": "ipython3",
   "version": "3.6.5"
  }
 },
 "nbformat": 4,
 "nbformat_minor": 2
}
