{
 "cells": [
  {
   "cell_type": "raw",
   "metadata": {},
   "source": [
    "Histograms scaled\n",
    "dataset:TTJets_TuneCP5_13TeV-amcatnloFXFX-pythia8 sumgenweights:1788179157972.0\n",
    "dataset:WW_TuneCP5_13TeV-pythia8 sumgenweights:47076815.12109375\n",
    "dataset:WJetsToLNu_HT-800To1200_TuneCP5_13TeV-madgraphMLM-pythia8 sumgenweights:50147526.9140625\n",
    "dataset:GJets_1j_Gpt-650ToInf_5f_NLO_Autumn18 sumgenweights:2132333.001800537\n",
    "dataset:DYJetsToLL_M-50_HT-400to600_TuneCP5_PSweights_13TeV-madgraphMLM-pythia8 sumgenweights:57687052.318359375\n",
    "dataset:ST_tW_top_5f_inclusiveDecays_TuneCP5_13TeV-powheg-pythia8 sumgenweights:2009248476.609375\n",
    "dataset:DYJetsToLL_M-50_HT-2500toInf_TuneCP5_PSweights_13TeV-madgraphMLM-pythia8 sumgenweights:2493102.1025390625\n",
    "dataset:WJetsToLNu_HT-2500ToInf_TuneCP5_13TeV-madgraphMLM-pythia8 sumgenweights:19136376.12890625\n",
    "dataset:ZJetsToNuNu_HT-600To800_13TeV-madgraph sumgenweights:34358777.337890625\n",
    "dataset:GJets_1j_Gpt-400To650_5f_NLO_Autumn18 sumgenweights:327988912.8808594\n",
    "dataset:QCD_HT1000to1500_TuneCP5_13TeV-madgraphMLM-pythia8 sumgenweights:92421130.39746094\n",
    "dataset:ST_t-channel_top_4f_InclusiveDecays_TuneCP5_13TeV-powheg-madspin-pythia8 sumgenweights:99472521855.0\n",
    "dataset:QCD_HT500to700_TuneCP5_13TeV-madgraphMLM-pythia8 sumgenweights:330280925.6660156\n",
    "dataset:ZZ_TuneCP5_13TeV-pythia8 sumgenweights:11872660.283203125\n",
    "dataset:ZJetsToNuNu_HT-800To1200_13TeV-madgraph sumgenweights:12334353.01171875\n",
    "dataset:WJetsToLNu_HT-600To800_TuneCP5_13TeV-madgraphMLM-pythia8 sumgenweights:118144572.38964844\n",
    "dataset:MET sumgenweights:30750.0\n",
    "dataset:WZ_TuneCP5_13TeV-pythia8 sumgenweights:23305001.6484375\n",
    "dataset:ZJetsToNuNu_HT-2500ToInf_13TeV-madgraph sumgenweights:2101013.150390625\n",
    "dataset:ST_tW_antitop_5f_inclusiveDecays_TuneCP5_13TeV-powheg-pythia8 sumgenweights:1598822339.25\n",
    "dataset:ZJetsToNuNu_HT-400To600_13TeV-madgraph sumgenweights:56899937.71435547\n",
    "dataset:WJetsToLNu_HT-400To600_TuneCP5_13TeV-madgraphMLM-pythia8 sumgenweights:35481586.294555664\n",
    "dataset:WJetsToLNu_HT-1200To2500_TuneCP5_13TeV-madgraphMLM-pythia8 sumgenweights:45402426.33984375\n",
    "dataset:QCD_HT300to500_TuneCP5_13TeV-madgraphMLM-pythia8 sumgenweights:327564797.4375\n",
    "dataset:WJetsToLNu_Wpt-0To50_TuneCP5_13TeV-amcatnloFXFX-pythia8 sumgenweights:112505840117088.0\n",
    "dataset:DYJetsToLL_M-50_HT-200to400_TuneCP5_PSweights_13TeV-madgraphMLM-pythia8 sumgenweights:67227436.92041016\n",
    "dataset:ZJetsToNuNu_HT-200To400_13TeV-madgraph sumgenweights:139397336.70117188\n",
    "dataset:QCD_HT1500to2000_TuneCP5_13TeV-madgraphMLM-pythia8 sumgenweights:65303126.65649414\n",
    "dataset:ST_t-channel_antitop_4f_InclusiveDecays_TuneCP5_13TeV-powheg-madspin-pythia8 sumgenweights:30755982618.75\n",
    "dataset:ZJetsToNuNu_HT-1200To2500_13TeV-madgraph sumgenweights:2041026.046875\n",
    "dataset:WJetsToLNu_HT-200To400_TuneCP5_13TeV-madgraphMLM-pythia8 sumgenweights:152490773.25\n",
    "dataset:ZJetsToNuNu_HT-100To200_13TeV-madgraph sumgenweights:142055614.9921875\n",
    "dataset:EGamma sumgenweights:119316.0\n",
    "dataset:QCD_HT700to1000_TuneCP5_13TeV-madgraphMLM-pythia8 sumgenweights:288169325.77001953\n",
    "dataset:DYJetsToLL_M-50_HT-100to200_TuneCP5_PSweights_13TeV-madgraphMLM-pythia8 sumgenweights:69100474.62597656\n",
    "dataset:GJets_1j_Gpt-250To400_5f_NLO_Autumn18 sumgenweights:1305973059.4628906\n",
    "dataset:WJetsToLNu_HT-100To200_TuneCP5_13TeV-madgraphMLM-pythia8 sumgenweights:176888076.14648438\n",
    "dataset:DYJetsToLL_M-50_HT-1200to2500_TuneCP5_PSweights_13TeV-madgraphMLM-pythia8 sumgenweights:3189401.109375\n",
    "dataset:GJets_1j_Gpt-100To250_5f_NLO_Autumn18 sumgenweights:98331296986.68164\n",
    "dataset:DYJetsToLL_M-50_HT-600to800_TuneCP5_PSweights_13TeV-madgraphMLM-pythia8 sumgenweights:52957428.333984375\n",
    "dataset:QCD_HT2000toInf_TuneCP5_13TeV-madgraphMLM-pythia8 sumgenweights:32473586.8828125\n",
    "dataset:DYJetsToLL_M-50_HT-800to1200_TuneCP5_PSweights_13TeV-madgraphMLM-pythia8 sumgenweights:18725892.357421875\n",
    "dataset:QCD_HT200to300_TuneCP5_13TeV-madgraphMLM-pythia8 sumgenweights:325482217.78125\n"
   ]
  },
  {
   "cell_type": "code",
   "execution_count": null,
   "metadata": {},
   "outputs": [],
   "source": [
    "dataset:QCD_HT1500to2000_TuneCP5_13TeV-madgraphMLM-pythia8 sumgenweights:10883854.442749023\n",
    "dataset:ST_t-channel_antitop_4f_InclusiveDecays_TuneCP5_13TeV-powheg-madspin-pythia8 sumgenweights:5125997103.125\n",
    "dataset:QCD_HT1000to1500_TuneCP5_13TeV-madgraphMLM-pythia8 sumgenweights:15403521.732910156\n",
    "dataset:ST_t-channel_top_4f_InclusiveDecays_TuneCP5_13TeV-powheg-madspin-pythia8 sumgenweights:16578753642.5\n",
    "dataset:DYJetsToLL_M-50_HT-600to800_TuneCP5_PSweights_13TeV-madgraphMLM-pythia8 sumgenweights:8826238.055664062\n",
    "dataset:QCD_HT2000toInf_TuneCP5_13TeV-madgraphMLM-pythia8 sumgenweights:5412264.48046875\n",
    "dataset:DYJetsToLL_M-50_HT-2500toInf_TuneCP5_PSweights_13TeV-madgraphMLM-pythia8 sumgenweights:415517.01708984375\n",
    "dataset:WJetsToLNu_HT-2500ToInf_TuneCP5_13TeV-madgraphMLM-pythia8 sumgenweights:3189396.021484375\n",
    "dataset:GJets_1j_Gpt-250To400_5f_NLO_Autumn18 sumgenweights:217662176.57714844\n",
    "dataset:WJetsToLNu_HT-100To200_TuneCP5_13TeV-madgraphMLM-pythia8 sumgenweights:29481346.024414062\n",
    "dataset:DYJetsToLL_M-50_HT-1200to2500_TuneCP5_PSweights_13TeV-madgraphMLM-pythia8 sumgenweights:531566.8515625\n",
    "dataset:GJets_1j_Gpt-100To250_5f_NLO_Autumn18 sumgenweights:16388549497.780273\n",
    "dataset:QCD_HT500to700_TuneCP5_13TeV-madgraphMLM-pythia8 sumgenweights:55046820.94433594\n",
    "dataset:ZZ_TuneCP5_13TeV-pythia8 sumgenweights:1978776.7138671875\n",
    "dataset:ZJetsToNuNu_HT-800To1200_13TeV-madgraph sumgenweights:2055725.501953125\n",
    "dataset:WJetsToLNu_HT-600To800_TuneCP5_13TeV-madgraphMLM-pythia8 sumgenweights:19690762.064941406\n",
    "dataset:MET sumgenweights:5125.0\n",
    "dataset:WZ_TuneCP5_13TeV-pythia8 sumgenweights:3884166.94140625\n",
    "dataset:ZJetsToNuNu_HT-2500ToInf_13TeV-madgraph sumgenweights:350168.8583984375\n",
    "dataset:ST_tW_antitop_5f_inclusiveDecays_TuneCP5_13TeV-powheg-pythia8 sumgenweights:266470389.875\n",
    "dataset:ZJetsToNuNu_HT-400To600_13TeV-madgraph sumgenweights:9483322.952392578\n",
    "dataset:WJetsToLNu_HT-400To600_TuneCP5_13TeV-madgraphMLM-pythia8 sumgenweights:5913597.715759277\n",
    "dataset:WJetsToLNu_HT-1200To2500_TuneCP5_13TeV-madgraphMLM-pythia8 sumgenweights:7567071.056640625\n",
    "dataset:QCD_HT300to500_TuneCP5_13TeV-madgraphMLM-pythia8 sumgenweights:54594132.90625\n",
    "dataset:WJetsToLNu_Wpt-0To50_TuneCP5_13TeV-amcatnloFXFX-pythia8 sumgenweights:18750973352848.0\n",
    "dataset:DYJetsToLL_M-50_HT-200to400_TuneCP5_PSweights_13TeV-madgraphMLM-pythia8 sumgenweights:11204572.82006836\n",
    "dataset:ZJetsToNuNu_HT-200To400_13TeV-madgraph sumgenweights:23232889.450195312\n",
    "dataset:WJetsToLNu_HT-800To1200_TuneCP5_13TeV-madgraphMLM-pythia8 sumgenweights:8357921.15234375\n",
    "dataset:GJets_1j_Gpt-650ToInf_5f_NLO_Autumn18 sumgenweights:355388.83363342285\n",
    "dataset:ZJetsToNuNu_HT-600To800_13TeV-madgraph sumgenweights:5726462.8896484375\n",
    "dataset:GJets_1j_Gpt-400To650_5f_NLO_Autumn18 sumgenweights:54664818.81347656\n",
    "dataset:TTJets_TuneCP5_13TeV-amcatnloFXFX-pythia8 sumgenweights:296744582418.0\n",
    "dataset:WW_TuneCP5_13TeV-pythia8 sumgenweights:7846135.853515625\n",
    "dataset:DYJetsToLL_M-50_HT-800to1200_TuneCP5_PSweights_13TeV-madgraphMLM-pythia8 sumgenweights:3120982.0595703125\n",
    "dataset:QCD_HT200to300_TuneCP5_13TeV-madgraphMLM-pythia8 sumgenweights:54247036.296875\n",
    "dataset:ZJetsToNuNu_HT-100To200_13TeV-madgraph sumgenweights:23675935.83203125\n",
    "dataset:EGamma sumgenweights:19853.0\n"
   ]
  },
  {
   "cell_type": "code",
   "execution_count": 1,
   "metadata": {},
   "outputs": [],
   "source": [
    "from __future__ import print_function, division\n",
    "from collections import defaultdict, OrderedDict\n",
    "import gzip\n",
    "import pickle\n",
    "import json\n",
    "import os\n",
    "import uproot\n",
    "import matplotlib.pyplot as plt\n",
    "%matplotlib inline\n",
    "import numpy as np\n",
    "from coffea import hist, processor \n",
    "from coffea.hist import plot\n",
    "from coffea.util import load, save"
   ]
  },
  {
   "cell_type": "code",
   "execution_count": 2,
   "metadata": {},
   "outputs": [],
   "source": [
    "hists = load('lep_lowWpT2018.scaled')"
   ]
  },
  {
   "cell_type": "code",
   "execution_count": 3,
   "metadata": {},
   "outputs": [
    {
     "data": {
      "text/plain": [
       "{'bkg': {'sumw': <Hist (process,sumw) instance at 0x7f1a3456ae80>,\n",
       "  'ele_pT': <Hist (process,region,pT) instance at 0x7f19ec381128>,\n",
       "  'dphi_e_etmiss': <Hist (process,region,dphi) instance at 0x7f19ec310f28>,\n",
       "  'mT': <Hist (process,region,mT) instance at 0x7f19ec315390>,\n",
       "  'jet_pT': <Hist (process,region,pT) instance at 0x7f19ec32a278>,\n",
       "  'dphi_mu_etmiss': <Hist (process,region,dphi) instance at 0x7f19ec32a6d8>,\n",
       "  'eT_miss': <Hist (process,region,eT) instance at 0x7f19ec32ab38>,\n",
       "  'mu_pT': <Hist (process,region,pT) instance at 0x7f19ec33ea20>},\n",
       " 'sig': {'sumw': <Hist (process,sumw) instance at 0x7f19ec2d18d0>,\n",
       "  'ele_pT': <Hist (process,region,pT) instance at 0x7f19ec2d1908>,\n",
       "  'dphi_e_etmiss': <Hist (process,region,dphi) instance at 0x7f19ec2d1978>,\n",
       "  'mT': <Hist (process,region,mT) instance at 0x7f19ec2d19e8>,\n",
       "  'jet_pT': <Hist (process,region,pT) instance at 0x7f19ec2d1a58>,\n",
       "  'dphi_mu_etmiss': <Hist (process,region,dphi) instance at 0x7f19ec2d1ac8>,\n",
       "  'eT_miss': <Hist (process,region,eT) instance at 0x7f19ec2d1b38>,\n",
       "  'mu_pT': <Hist (process,region,pT) instance at 0x7f19ec2d1ba8>},\n",
       " 'data': {'sumw': <Hist (process,sumw) instance at 0x7f19ec2d1c50>,\n",
       "  'ele_pT': <Hist (process,region,pT) instance at 0x7f19ec2d1f98>,\n",
       "  'dphi_e_etmiss': <Hist (process,region,dphi) instance at 0x7f19ec2d7b38>,\n",
       "  'mT': <Hist (process,region,mT) instance at 0x7f19ec2d7b70>,\n",
       "  'jet_pT': <Hist (process,region,pT) instance at 0x7f19ec2dd748>,\n",
       "  'dphi_mu_etmiss': <Hist (process,region,dphi) instance at 0x7f19ec2dd780>,\n",
       "  'eT_miss': <Hist (process,region,eT) instance at 0x7f19ec2dd7f0>,\n",
       "  'mu_pT': <Hist (process,region,pT) instance at 0x7f19ec2e53c8>}}"
      ]
     },
     "execution_count": 3,
     "metadata": {},
     "output_type": "execute_result"
    }
   ],
   "source": [
    "hists"
   ]
  },
  {
   "cell_type": "code",
   "execution_count": 4,
   "metadata": {},
   "outputs": [],
   "source": [
    "bkg_hists = hists['bkg']\n",
    "sig_hists = hists['sig']\n",
    "data_hists = hists['data']"
   ]
  },
  {
   "cell_type": "code",
   "execution_count": 5,
   "metadata": {},
   "outputs": [
    {
     "name": "stdout",
     "output_type": "stream",
     "text": [
      "DY {(): array([       0.        , 45230131.29467773])}\n",
      "WW {(): array([      0.        , 7846135.85351562])}\n",
      "WZ {(): array([      0.        , 3884166.94140625])}\n",
      "ZZ {(): array([      0.        , 1978776.71386719])}\n",
      "ST {(): array([0.00000000e+00, 2.23060959e+10])}\n",
      "TT {(): array([0.00000000e+00, 2.96744582e+11])}\n",
      "WJets {(): array([0.0000000e+00, 1.8751073e+13])}\n",
      "ZJets {(): array([       0.        , 64864676.49243164])}\n",
      "GJets {(): array([0.00000000e+00, 1.66612319e+10])}\n",
      "QCD {(): array([0.00000000e+00, 2.42174551e+08])}\n"
     ]
    }
   ],
   "source": [
    "for p in bkg_hists['sumw'].identifiers('process'):\n",
    "  print(p,bkg_hists['sumw'].integrate('process',p).values(overflow='all'))"
   ]
  },
  {
   "cell_type": "code",
   "execution_count": 22,
   "metadata": {},
   "outputs": [],
   "source": [
    "hists_merged = load('lep_lowWpT_test2018.merged')"
   ]
  },
  {
   "cell_type": "code",
   "execution_count": null,
   "metadata": {},
   "outputs": [],
   "source": []
  },
  {
   "cell_type": "code",
   "execution_count": 23,
   "metadata": {},
   "outputs": [
    {
     "name": "stdout",
     "output_type": "stream",
     "text": [
      "DYJetsToLL_M-50_HT-100to200_TuneCP5_PSweights_13TeV-madgraphMLM-pythia8 {(): array([     0.        , 540042.09570312])}\n",
      "WJetsToLNu_HT-100To200_TuneCP5_13TeV-madgraphMLM-pythia8 {(): array([     0.        , 747142.54296875])}\n"
     ]
    }
   ],
   "source": [
    "for p in hists_merged['sumw'].identifiers('dataset'):\n",
    "#   if \"QCD\" in p:\n",
    "  print(p,hists_merged['sumw'].integrate('dataset',p).values(overflow='all'))"
   ]
  },
  {
   "cell_type": "code",
   "execution_count": 30,
   "metadata": {},
   "outputs": [
    {
     "data": {
      "text/plain": [
       "<matplotlib.axes._subplots.AxesSubplot at 0x7f3bbf356080>"
      ]
     },
     "execution_count": 30,
     "metadata": {},
     "output_type": "execute_result"
    },
    {
     "data": {
      "image/png": "[encoded data removed]",
      "text/plain": [
       "<Figure size 432x288 with 1 Axes>"
      ]
     },
     "metadata": {
      "needs_background": "light"
     },
     "output_type": "display_data"
    }
   ],
   "source": [
    "hist.plot1d(hists_merged['mu_pT'].integrate('dataset'), overlay='region', stack=True )"
   ]
  },
  {
   "cell_type": "code",
   "execution_count": 18,
   "metadata": {},
   "outputs": [
    {
     "data": {
      "text/plain": [
       "<matplotlib.axes._subplots.AxesSubplot at 0x7f3bbf30c860>"
      ]
     },
     "execution_count": 18,
     "metadata": {},
     "output_type": "execute_result"
    },
    {
     "data": {
      "image/png": "[encoded data removed]",
      "text/plain": [
       "<Figure size 432x288 with 1 Axes>"
      ]
     },
     "metadata": {
      "needs_background": "light"
     },
     "output_type": "display_data"
    }
   ],
   "source": [
    "hist.plot1d(hists_merged['ele_pT'].integrate('dataset'), overlay='region', stack=True )"
   ]
  },
  {
   "cell_type": "code",
   "execution_count": 107,
   "metadata": {},
   "outputs": [
    {
     "data": {
      "text/plain": [
       "[<StringBin (MET) instance at 0x7f958f71b6a0>,\n",
       " <StringBin (ST_t-channel_top_4f_InclusiveDecays_TuneCP5_13TeV-powheg-madspin-pythia8) instance at 0x7f958f71b358>,\n",
       " <StringBin (WJetsToLNu_HT-1200To2500_TuneCP5_13TeV-madgraphMLM-pythia8) instance at 0x7f958f71bcc0>,\n",
       " <StringBin (GJets_1j_Gpt-100To250_5f_NLO_Autumn18) instance at 0x7f958f71be80>,\n",
       " <StringBin (WW_TuneCP5_13TeV-pythia8) instance at 0x7f958f71b898>,\n",
       " <StringBin (ZZ_TuneCP5_13TeV-pythia8) instance at 0x7f958f71bf60>,\n",
       " <StringBin (QCD_HT1000to1500_TuneCP5_13TeV-madgraphMLM-pythia8) instance at 0x7f958f892da0>,\n",
       " <StringBin (DYJetsToLL_M-50_HT-800to1200_TuneCP5_PSweights_13TeV-madgraphMLM-pythia8) instance at 0x7f958f892ac8>,\n",
       " <StringBin (QCD_HT700to1000_TuneCP5_13TeV-madgraphMLM-pythia8) instance at 0x7f958f892d30>,\n",
       " <StringBin (WJetsToLNu_HT-200To400_TuneCP5_13TeV-madgraphMLM-pythia8) instance at 0x7f958f892cc0>,\n",
       " <StringBin (WJetsToLNu_HT-2500ToInf_TuneCP5_13TeV-madgraphMLM-pythia8) instance at 0x7f958f892d68>,\n",
       " <StringBin (ST_t-channel_antitop_4f_InclusiveDecays_TuneCP5_13TeV-powheg-madspin-pythia8) instance at 0x7f958f892e48>,\n",
       " <StringBin (TTJets_TuneCP5_13TeV-amcatnloFXFX-pythia8) instance at 0x7f958f892eb8>,\n",
       " <StringBin (GJets_1j_Gpt-650ToInf_5f_NLO_Autumn18) instance at 0x7f958f892240>,\n",
       " <StringBin (ZJetsToNuNu_HT-100To200_13TeV-madgraph) instance at 0x7f958f892ef0>,\n",
       " <StringBin (QCD_HT2000toInf_TuneCP5_13TeV-madgraphMLM-pythia8) instance at 0x7f958f892358>,\n",
       " <StringBin (DYJetsToLL_M-50_HT-2500toInf_TuneCP5_PSweights_13TeV-madgraphMLM-pythia8) instance at 0x7f958f892dd8>,\n",
       " <StringBin (QCD_HT300to500_TuneCP5_13TeV-madgraphMLM-pythia8) instance at 0x7f958f892748>,\n",
       " <StringBin (WJetsToLNu_HT-600To800_TuneCP5_13TeV-madgraphMLM-pythia8) instance at 0x7f958f8924e0>,\n",
       " <StringBin (DYJetsToLL_M-50_HT-100to200_TuneCP5_PSweights_13TeV-madgraphMLM-pythia8) instance at 0x7f958f8924a8>,\n",
       " <StringBin (QCD_HT500to700_TuneCP5_13TeV-madgraphMLM-pythia8) instance at 0x7f958f892080>,\n",
       " <StringBin (WJetsToLNu_HT-400To600_TuneCP5_13TeV-madgraphMLM-pythia8) instance at 0x7f958f892a90>,\n",
       " <StringBin (DYJetsToLL_M-50_HT-1200to2500_TuneCP5_PSweights_13TeV-madgraphMLM-pythia8) instance at 0x7f958f892a58>,\n",
       " <StringBin (DYJetsToLL_M-50_HT-600to800_TuneCP5_PSweights_13TeV-madgraphMLM-pythia8) instance at 0x7f958f892e80>,\n",
       " <StringBin (QCD_HT1500to2000_TuneCP5_13TeV-madgraphMLM-pythia8) instance at 0x7f958f892630>,\n",
       " <StringBin (QCD_HT200to300_TuneCP5_13TeV-madgraphMLM-pythia8) instance at 0x7f958f892ba8>,\n",
       " <StringBin (ZJetsToNuNu_HT-2500ToInf_13TeV-madgraph) instance at 0x7f958f892b70>,\n",
       " <StringBin (ZJetsToNuNu_HT-400To600_13TeV-madgraph) instance at 0x7f958f892400>,\n",
       " <StringBin (EGamma) instance at 0x7f958f892860>,\n",
       " <StringBin (ZJetsToNuNu_HT-200To400_13TeV-madgraph) instance at 0x7f958f892c18>,\n",
       " <StringBin (GJets_1j_Gpt-250To400_5f_NLO_Autumn18) instance at 0x7f958f8920b8>,\n",
       " <StringBin (WJetsToLNu_HT-800To1200_TuneCP5_13TeV-madgraphMLM-pythia8) instance at 0x7f958f892be0>,\n",
       " <StringBin (WZ_TuneCP5_13TeV-pythia8) instance at 0x7f958f892908>,\n",
       " <StringBin (WJetsToLNu_HT-100To200_TuneCP5_13TeV-madgraphMLM-pythia8) instance at 0x7f958f8929b0>,\n",
       " <StringBin (ST_tW_antitop_5f_inclusiveDecays_TuneCP5_13TeV-powheg-pythia8) instance at 0x7f958f8927f0>,\n",
       " <StringBin (WJetsToLNu_Wpt-0To50_TuneCP5_13TeV-amcatnloFXFX-pythia8) instance at 0x7f958f892e10>,\n",
       " <StringBin (DYJetsToLL_M-50_HT-400to600_TuneCP5_PSweights_13TeV-madgraphMLM-pythia8) instance at 0x7f958f892668>,\n",
       " <StringBin (ZJetsToNuNu_HT-800To1200_13TeV-madgraph) instance at 0x7f958f892320>,\n",
       " <StringBin (ST_tW_top_5f_inclusiveDecays_TuneCP5_13TeV-powheg-pythia8) instance at 0x7f958f892828>,\n",
       " <StringBin (GJets_1j_Gpt-400To650_5f_NLO_Autumn18) instance at 0x7f958f892208>,\n",
       " <StringBin (ZJetsToNuNu_HT-1200To2500_13TeV-madgraph) instance at 0x7f958f892c88>,\n",
       " <StringBin (ZJetsToNuNu_HT-600To800_13TeV-madgraph) instance at 0x7f958f892940>,\n",
       " <StringBin (DYJetsToLL_M-50_HT-200to400_TuneCP5_PSweights_13TeV-madgraphMLM-pythia8) instance at 0x7f958f892518>]"
      ]
     },
     "execution_count": 107,
     "metadata": {},
     "output_type": "execute_result"
    }
   ],
   "source": [
    "hists_merged['ele_pT'].identifiers('dataset')"
   ]
  },
  {
   "cell_type": "code",
   "execution_count": 25,
   "metadata": {},
   "outputs": [],
   "source": [
    "def scale_file(file):\n",
    "\n",
    "    print('Loading file:',file)    \n",
    "    hists=load(file)\n",
    "\n",
    "    pd = []\n",
    "    for d in hists['sumw'].identifiers('dataset'):\n",
    "        dataset = d.name\n",
    "        if dataset.split(\"____\")[0] not in pd: pd.append(dataset.split(\"____\")[0])\n",
    "#     print('List of primary datasets:',pd)\n",
    "\n",
    "    ##\n",
    "    # Aggregate all the histograms that belong to a single dataset\n",
    "    ##\n",
    "\n",
    "    dataset = hist.Cat(\"dataset\", \"dataset\", sorting='placement')\n",
    "    dataset_cats = (\"dataset\",)\n",
    "    dataset_map = OrderedDict()\n",
    "    for pdi in pd:\n",
    "        dataset_map[pdi] = (pdi+\"*\",)\n",
    "    for key in hists.keys():\n",
    "        hists[key] = hists[key].group(dataset_cats, dataset, dataset_map)\n",
    "    print('hists', hists)\n",
    "\n",
    "    return scale(hists)\n",
    "\n",
    "\n",
    "def scale(hists):\n",
    "\n",
    "    ###\n",
    "    # Rescaling MC histograms using the xsec weight\n",
    "    ###\n",
    "\n",
    "    scale={'DYJetsToLL_M-50_HT-100to200_TuneCP5_PSweights_13TeV-madgraphMLM-pythia8____0_': 9606192.0, \n",
    "           'WJetsToLNu_HT-100To200_TuneCP5_13TeV-madgraphMLM-pythia8____1_': 83158080.0}\n",
    "#     for d in hists['sumw'].identifiers('dataset'):\n",
    "# #       print(d)\n",
    "#       scale[d]=hists['sumw'].integrate('dataset', d).values(overflow='all')[()][1]\n",
    "#     print('Sumw extracted')\n",
    "\n",
    "    for key in hists.keys():\n",
    "        if key=='sumw': continue\n",
    "        for d in hists[key].identifiers('dataset'):\n",
    "            if 'MET' in d.name or 'SingleElectron' in d.name or 'SinglePhoton' in d.name or 'EGamma' in d.name: continue\n",
    "            hists[key].scale({d:1/scale[d]},axis='dataset')\n",
    "    print(scale)\n",
    "\n",
    "\n",
    "    ###\n",
    "    # Defining 'process', to aggregate different samples into a single process\n",
    "    ##\n",
    "\n",
    "    process = hist.Cat(\"process\", \"Process\", sorting='placement')\n",
    "    cats = (\"dataset\",)\n",
    "    sig_map = OrderedDict()\n",
    "    bkg_map = OrderedDict()\n",
    "    data_map = OrderedDict()\n",
    "#     bkg_map[\"Hbb\"] = (\"*HTo*\")\n",
    "    bkg_map[\"DY\"] = (\"DYJets*\",)\n",
    "#     bkg_map[\"DY+HF\"] = (\"HF--DYJets*\",)\n",
    "#     bkg_map[\"DY+LF\"] = (\"LF--DYJets*\",)\n",
    "#     bkg_map[\"DY+jetsLO\"] = (\"lo--DYJets*\",)\n",
    "#     bkg_map[\"DY+jetsNNLO\"] = (\"nnlo--DYJets*\",)\n",
    "    #bkg_map[\"VV\"] = ([\"WW*\",\"WZ*\",\"ZZ*\"],)\n",
    "    \n",
    "    bkg_map[\"WW\"] = (\"WW*\", )\n",
    "    bkg_map[\"WZ\"] = (\"WZ*\", )\n",
    "    bkg_map[\"ZZ\"] = (\"ZZ*\", )\n",
    "    bkg_map[\"ST\"] = (\"ST*\",)\n",
    "    bkg_map[\"TT\"] = (\"TT*\",)\n",
    "    bkg_map[\"WJets\"] = (\"WJets*\",)\n",
    "#     bkg_map[\"W+HF\"] = (\"HF--WJets*\",)\n",
    "#     bkg_map[\"W+LF\"] = (\"LF--WJets*\",)\n",
    "#     bkg_map[\"W+jetsLO\"] = (\"lo--WJets*\",)\n",
    "#     bkg_map[\"W+jetsNNLO\"] = (\"nnlo--WJets*\",)\n",
    "\n",
    "    bkg_map[\"ZJets\"] = (\"ZJets*\",)\n",
    "#     bkg_map[\"Z+HF\"] = (\"HF--ZJetsToNuNu*\",)\n",
    "#     bkg_map[\"Z+LF\"] = (\"LF--ZJetsToNuNu*\",)\n",
    "#     bkg_map[\"Z+jetsLO\"] = (\"lo--ZJets*\",)\n",
    "#     bkg_map[\"Z+jetsNNLO\"] = (\"nnlo--ZJets*\",)\n",
    "    \n",
    "    bkg_map[\"GJets\"] = (\"GJets*\",)\n",
    "#     bkg_map[\"G+HF\"] = (\"HF--GJets*\",)\n",
    "#     bkg_map[\"G+LF\"] = (\"LF--GJets*\",)\n",
    "#     bkg_map[\"G+jetsLO\"] = (\"lo--GJets*\",)\n",
    "#     bkg_map[\"G+jetsNNLO\"] = (\"nnlo--GJets*\",)\n",
    "    \n",
    "    bkg_map[\"QCD\"] = (\"*QCD*\",)\n",
    "#     sig_map[\"Mhs_50\"] = (\"*Mhs_50*\",)  ## signals\n",
    "#     sig_map[\"Mhs_70\"] = (\"*Mhs_70*\",)\n",
    "#     sig_map[\"Mhs_90\"] = (\"*Mhs_90*\",)\n",
    "#     sig_map[\"MonoJet\"] = (\"MonoJet*\",)  ## signals\n",
    "#     sig_map[\"MonoW\"] = (\"MonoW*\",)    ## signals\n",
    "#     sig_map[\"MonoZ\"] = (\"MonoZ*\",)    ## signals\n",
    "    data_map[\"MET\"] = (\"MET*\", )\n",
    "    data_map[\"SingleElectron\"] = (\"SingleElectron*\", )\n",
    "    data_map[\"SinglePhoton\"] = (\"SinglePhoton*\", )\n",
    "    data_map[\"EGamma\"] = (\"EGamma*\", )\n",
    "    print('Processes defined')\n",
    "    \n",
    "    ###\n",
    "    # Storing signal and background histograms\n",
    "    ###\n",
    "    bkg_hists={}\n",
    "    sig_hists={}\n",
    "    data_hists={}\n",
    "    for key in hists.keys():\n",
    "        bkg_hists[key] = hists[key].group(cats, process, bkg_map)\n",
    "        sig_hists[key] = hists[key].group(cats, process, sig_map)\n",
    "        data_hists[key] = hists[key].group(cats, process, data_map)\n",
    "    print('Histograms grouped')\n",
    "\n",
    "    return bkg_hists, sig_hists, data_hists"
   ]
  },
  {
   "cell_type": "code",
   "execution_count": 27,
   "metadata": {},
   "outputs": [
    {
     "name": "stdout",
     "output_type": "stream",
     "text": [
      "Loading file: lep_lowWpT_test2018.merged\n",
      "hists {'sumw': <Hist (dataset,sumw) instance at 0x7f3bbfac8eb8>, 'ele_pT': <Hist (dataset,region,pT) instance at 0x7f3c1673de10>, 'dphi_e_etmiss': <Hist (dataset,region,dphi) instance at 0x7f3bbf19fe80>, 'mT': <Hist (dataset,region,mT) instance at 0x7f3bbf403ac8>, 'jet_pT': <Hist (dataset,region,pT) instance at 0x7f3bbf0fa0b8>, 'dphi_mu_etmiss': <Hist (dataset,region,dphi) instance at 0x7f3bbf196668>, 'eT_miss': <Hist (dataset,region,eT) instance at 0x7f3bbf3c3208>, 'mu_pT': <Hist (dataset,region,pT) instance at 0x7f3bbf1bccc0>}\n"
     ]
    },
    {
     "ename": "KeyError",
     "evalue": "<StringBin (DYJetsToLL_M-50_HT-100to200_TuneCP5_PSweights_13TeV-madgraphMLM-pythia8) instance at 0x7f3bbfac8978>",
     "output_type": "error",
     "traceback": [
      "\u001b[0;31m---------------------------------------------------------------------------\u001b[0m",
      "\u001b[0;31mKeyError\u001b[0m                                  Traceback (most recent call last)",
      "\u001b[0;32m<ipython-input-27-ac5600ad4a2c>\u001b[0m in \u001b[0;36m<module>\u001b[0;34m\u001b[0m\n\u001b[0;32m----> 1\u001b[0;31m \u001b[0mbkg_hists\u001b[0m\u001b[0;34m,\u001b[0m \u001b[0msig_hists\u001b[0m\u001b[0;34m,\u001b[0m \u001b[0mdata_hists\u001b[0m \u001b[0;34m=\u001b[0m \u001b[0mscale_file\u001b[0m\u001b[0;34m(\u001b[0m\u001b[0;34m'lep_lowWpT_test2018.merged'\u001b[0m\u001b[0;34m)\u001b[0m\u001b[0;34m\u001b[0m\u001b[0m\n\u001b[0m",
      "\u001b[0;32m<ipython-input-25-868bff5d85a6>\u001b[0m in \u001b[0;36mscale_file\u001b[0;34m(file)\u001b[0m\n\u001b[1;32m     23\u001b[0m     \u001b[0mprint\u001b[0m\u001b[0;34m(\u001b[0m\u001b[0;34m'hists'\u001b[0m\u001b[0;34m,\u001b[0m \u001b[0mhists\u001b[0m\u001b[0;34m)\u001b[0m\u001b[0;34m\u001b[0m\u001b[0m\n\u001b[1;32m     24\u001b[0m \u001b[0;34m\u001b[0m\u001b[0m\n\u001b[0;32m---> 25\u001b[0;31m     \u001b[0;32mreturn\u001b[0m \u001b[0mscale\u001b[0m\u001b[0;34m(\u001b[0m\u001b[0mhists\u001b[0m\u001b[0;34m)\u001b[0m\u001b[0;34m\u001b[0m\u001b[0m\n\u001b[0m\u001b[1;32m     26\u001b[0m \u001b[0;34m\u001b[0m\u001b[0m\n\u001b[1;32m     27\u001b[0m \u001b[0;34m\u001b[0m\u001b[0m\n",
      "\u001b[0;32m<ipython-input-25-868bff5d85a6>\u001b[0m in \u001b[0;36mscale\u001b[0;34m(hists)\u001b[0m\n\u001b[1;32m     42\u001b[0m         \u001b[0;32mfor\u001b[0m \u001b[0md\u001b[0m \u001b[0;32min\u001b[0m \u001b[0mhists\u001b[0m\u001b[0;34m[\u001b[0m\u001b[0mkey\u001b[0m\u001b[0;34m]\u001b[0m\u001b[0;34m.\u001b[0m\u001b[0midentifiers\u001b[0m\u001b[0;34m(\u001b[0m\u001b[0;34m'dataset'\u001b[0m\u001b[0;34m)\u001b[0m\u001b[0;34m:\u001b[0m\u001b[0;34m\u001b[0m\u001b[0m\n\u001b[1;32m     43\u001b[0m             \u001b[0;32mif\u001b[0m \u001b[0;34m'MET'\u001b[0m \u001b[0;32min\u001b[0m \u001b[0md\u001b[0m\u001b[0;34m.\u001b[0m\u001b[0mname\u001b[0m \u001b[0;32mor\u001b[0m \u001b[0;34m'SingleElectron'\u001b[0m \u001b[0;32min\u001b[0m \u001b[0md\u001b[0m\u001b[0;34m.\u001b[0m\u001b[0mname\u001b[0m \u001b[0;32mor\u001b[0m \u001b[0;34m'SinglePhoton'\u001b[0m \u001b[0;32min\u001b[0m \u001b[0md\u001b[0m\u001b[0;34m.\u001b[0m\u001b[0mname\u001b[0m \u001b[0;32mor\u001b[0m \u001b[0;34m'EGamma'\u001b[0m \u001b[0;32min\u001b[0m \u001b[0md\u001b[0m\u001b[0;34m.\u001b[0m\u001b[0mname\u001b[0m\u001b[0;34m:\u001b[0m \u001b[0;32mcontinue\u001b[0m\u001b[0;34m\u001b[0m\u001b[0m\n\u001b[0;32m---> 44\u001b[0;31m             \u001b[0mhists\u001b[0m\u001b[0;34m[\u001b[0m\u001b[0mkey\u001b[0m\u001b[0;34m]\u001b[0m\u001b[0;34m.\u001b[0m\u001b[0mscale\u001b[0m\u001b[0;34m(\u001b[0m\u001b[0;34m{\u001b[0m\u001b[0md\u001b[0m\u001b[0;34m:\u001b[0m\u001b[0;36m1\u001b[0m\u001b[0;34m/\u001b[0m\u001b[0mscale\u001b[0m\u001b[0;34m[\u001b[0m\u001b[0md\u001b[0m\u001b[0;34m]\u001b[0m\u001b[0;34m}\u001b[0m\u001b[0;34m,\u001b[0m\u001b[0maxis\u001b[0m\u001b[0;34m=\u001b[0m\u001b[0;34m'dataset'\u001b[0m\u001b[0;34m)\u001b[0m\u001b[0;34m\u001b[0m\u001b[0m\n\u001b[0m\u001b[1;32m     45\u001b[0m     \u001b[0mprint\u001b[0m\u001b[0;34m(\u001b[0m\u001b[0mscale\u001b[0m\u001b[0;34m)\u001b[0m\u001b[0;34m\u001b[0m\u001b[0m\n\u001b[1;32m     46\u001b[0m \u001b[0;34m\u001b[0m\u001b[0m\n",
      "\u001b[0;31mKeyError\u001b[0m: <StringBin (DYJetsToLL_M-50_HT-100to200_TuneCP5_PSweights_13TeV-madgraphMLM-pythia8) instance at 0x7f3bbfac8978>"
     ]
    }
   ],
   "source": [
    "bkg_hists, sig_hists, data_hists = scale_file('lep_lowWpT_test2018.merged')"
   ]
  },
  {
   "cell_type": "code",
   "execution_count": 19,
   "metadata": {},
   "outputs": [
    {
     "data": {
      "text/plain": [
       "<matplotlib.axes._subplots.AxesSubplot at 0x7f3bbf2b7f60>"
      ]
     },
     "execution_count": 19,
     "metadata": {},
     "output_type": "execute_result"
    },
    {
     "data": {
      "image/png": "[encoded data removed]",
      "text/plain": [
       "<Figure size 432x288 with 1 Axes>"
      ]
     },
     "metadata": {
      "needs_background": "light"
     },
     "output_type": "display_data"
    }
   ],
   "source": [
    "hist.plot1d(bkg_hists['ele_pT'].integrate('region'), overlay='process', stack=True )"
   ]
  },
  {
   "cell_type": "code",
   "execution_count": 109,
   "metadata": {},
   "outputs": [
    {
     "data": {
      "text/plain": [
       "[<StringBin (DY) instance at 0x7f958f1892e8>,\n",
       " <StringBin (WW) instance at 0x7f958f189240>,\n",
       " <StringBin (WZ) instance at 0x7f958f033fd0>,\n",
       " <StringBin (ZZ) instance at 0x7f958f189908>,\n",
       " <StringBin (ST) instance at 0x7f958f189ba8>,\n",
       " <StringBin (TT) instance at 0x7f958f1894e0>,\n",
       " <StringBin (WJets) instance at 0x7f958f189a20>,\n",
       " <StringBin (ZJets) instance at 0x7f958f1890f0>,\n",
       " <StringBin (GJets) instance at 0x7f958f189358>,\n",
       " <StringBin (QCD) instance at 0x7f958f1891d0>]"
      ]
     },
     "execution_count": 109,
     "metadata": {},
     "output_type": "execute_result"
    }
   ],
   "source": [
    "bkg_hists['ele_pT'].identifiers('process')"
   ]
  },
  {
   "cell_type": "code",
   "execution_count": null,
   "metadata": {},
   "outputs": [],
   "source": []
  }
 ],
 "metadata": {
  "kernelspec": {
   "display_name": "Python 3",
   "language": "python",
   "name": "python3"
  },
  "language_info": {
   "codemirror_mode": {
    "name": "ipython",
    "version": 3
   },
   "file_extension": ".py",
   "mimetype": "text/x-python",
   "name": "python",
   "nbconvert_exporter": "python",
   "pygments_lexer": "ipython3",
   "version": "3.6.5"
  }
 },
 "nbformat": 4,
 "nbformat_minor": 2
}
