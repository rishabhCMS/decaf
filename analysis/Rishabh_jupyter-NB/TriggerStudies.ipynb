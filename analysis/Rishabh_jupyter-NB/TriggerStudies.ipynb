{
 "cells": [
  {
   "cell_type": "code",
   "execution_count": 6,
   "metadata": {},
   "outputs": [],
   "source": [
    "#!/usr/bin/env python\n",
    "import lz4.frame as lz4f\n",
    "import cloudpickle\n",
    "import json\n",
    "import pprint\n",
    "import numpy as np\n",
    "import awkward\n",
    "np.seterr(divide='ignore', invalid='ignore', over='ignore')\n",
    "from coffea.arrays import Initialize\n",
    "from coffea import hist, processor\n",
    "from coffea.util import load, save\n",
    "from coffea.jetmet_tools import FactorizedJetCorrector, JetCorrectionUncertainty, JetTransformer, JetResolution, JetResolutionScaleFactor\n",
    "from optparse import OptionParser\n",
    "from uproot_methods import TVector2Array, TLorentzVectorArray"
   ]
  },
  {
   "cell_type": "markdown",
   "metadata": {},
   "source": [
    "## Objectives\n",
    "\n",
    "### A. No tight/loose selection applied\n",
    "1. plot electron pt, $\\eta$, $\\phi$ for events passing electron triggers\n",
    "2. plot muon pt, $\\eta$, $\\phi$ for events passing muon triggers\n",
    "3. plot met pt, $\\eta$, $\\phi$ for events passing met triggers\n",
    "\n",
    "### B. Tight selection applied\n",
    "1. plot electron pt, $\\eta$, $\\phi$ for events passing electron triggers\n",
    "2. plot muon pt, $\\eta$, $\\phi$ for events passing muon triggers\n",
    "3. plot met pt, $\\eta$, $\\phi$ for events passing met triggers\n",
    "\n",
    "### C. Loose selection applied\n",
    "1. plot electron pt, $\\eta$, $\\phi$ for events passing electron triggers\n",
    "2. plot muon pt, $\\eta$, $\\phi$ for events passing muon triggers\n",
    "3. plot met pt, $\\eta$, $\\phi$ for events passing met triggers"
   ]
  },
  {
   "cell_type": "code",
   "execution_count": 72,
   "metadata": {},
   "outputs": [],
   "source": [
    "class AnalysisProcessor(processor.ProcessorABC):\n",
    "    def __init__(self):\n",
    "\n",
    "        self._accumulator = processor.dict_accumulator({\n",
    "\n",
    "            'sumw': hist.Hist(\n",
    "                'sumw', \n",
    "                hist.Cat('dataset', 'Dataset'), \n",
    "                hist.Bin('sumw', 'Weight value', [0.])\n",
    "            ),\n",
    "\n",
    "            'ele_pT': hist.Hist(\n",
    "                'Events',\n",
    "                hist.Cat('dataset', 'dataset'),\n",
    "                hist.Cat('flavor', 'tight or loose'),\n",
    "                hist.Bin('pT', 'electron $p_{T}$ [GeV]', 10, 0, 200)),\n",
    "\n",
    "            'mu_pT': hist.Hist(\n",
    "                'Events',\n",
    "                hist.Cat('dataset', 'dataset'),\n",
    "                hist.Cat('flavor', 'tight or loose'),\n",
    "                hist.Bin('pT', 'mu $p_{T}$ [GeV]', 10, 0, 200))\n",
    "        })\n",
    "\n",
    "    @property\n",
    "    def accumulator(self):\n",
    "        return self._accumulator\n",
    "\n",
    "    def process(self, events):\n",
    "\n",
    "        # This gets us the accumulator dictionary we defined in init\n",
    "        output = self.accumulator.identity()\n",
    "\n",
    "        dataset = events.metadata['dataset'].split('_')[0]\n",
    "\n",
    "        Electron = events.Electron\n",
    "        Muon = events.Muon\n",
    "        Met = events.MET\n",
    "        Jet = events.Jet\n",
    "        \n",
    "        TightEleSel = ~(Electron.pt == np.nan)\n",
    "        TightEleSel = (((Electron.pt > 40) &\n",
    "                      (abs(Electron.eta) < 1.4442) &\n",
    "                      (abs(Electron.dxy) < 0.05) &\n",
    "                      (abs(Electron.dz) < 0.1) &\n",
    "                      (Electron.cutBased == 4)) |\n",
    "                     ((Electron.pt > 40) &\n",
    "                      (abs(Electron.eta) > 1.5660) &\n",
    "                      (abs(Electron.eta) < 2.5) &\n",
    "                      (abs(Electron.dxy) < 0.1) &\n",
    "                      (abs(Electron.dz) < 0.2) &\n",
    "                      (Electron.cutBased == 4)\n",
    "                      ))  # Trigger: HLT_Ele32_WPTight_Gsf_v\n",
    "\n",
    "        LooseEleSel = ~(Electron.pt == np.nan)\n",
    "        LooseEleSel = (((Electron.pt > 10) &\n",
    "                      (abs(Electron.eta) < 1.4442) &\n",
    "                      (abs(Electron.dxy) < 0.05) &\n",
    "                      (abs(Electron.dz) < 0.1) &\n",
    "                      (Electron.cutBased >= 1)) |\n",
    "                     ((Electron.pt > 10) &\n",
    "                      (abs(Electron.eta) > 1.5660) &\n",
    "                      (abs(Electron.eta) < 2.5) &\n",
    "                      (abs(Electron.dxy) < 0.1) &\n",
    "                      (abs(Electron.dz) < 0.2) &\n",
    "                      (Electron.cutBased >= 1)))\n",
    "        \n",
    "        Muon['T'] = TVector2Array.from_polar(Muon.pt, Muon.phi)\n",
    "        Muon['p4'] = TLorentzVectorArray.from_ptetaphim(Muon.pt, Muon.eta, Muon.phi, Muon.mass)\n",
    "        \n",
    "        TightMuSel = ~(Muon.pt==np.nan)\n",
    "        TightMuSel = (\n",
    "                    (Muon.pt>30) &\n",
    "                    (abs(Muon.eta)<2.4) &\n",
    "                    (Muon.tightId) &\n",
    "                    (Muon.pfRelIso04_all<0.15)\n",
    "                    )\n",
    "        \n",
    "        LooseMuonSel = ~(Muon.pt==np.nan)\n",
    "        LooseMuonSel = (Muon.pt>15)&(abs(Muon.eta)<2.4)&(Muon.looseId>0)&(Muon.pfRelIso04_all<0.25)\n",
    "        \n",
    "        LooseMuon = Muon[LooseMuonSel]\n",
    "        TightMuon = Muon[TightMuSel]\n",
    "        LeadingMu = TightMuon[TightMuon.pt.argmax()]\n",
    "\n",
    "        TightElectron = Electron[TightEleSel]\n",
    "        LooseElectron = Electron[LooseEleSel]\n",
    "        LeadingEle = TightElectron[TightElectron.pt.argmax()]\n",
    "        \n",
    "        # single e triggers for e events\n",
    "        EleTrigger = ['Ele32_WPTight_Gsf',\n",
    "                    'Ele115_CaloIdVT_GsfTrkIdT', 'Photon200']\n",
    "        MuTrigger = ['IsoMu24',\n",
    "            'Mu50',\n",
    "            'OldMu100',\n",
    "            'TkMu100']\n",
    "        MetTrigger = ['PFMETNoMu120_PFMHTNoMu120_IDTight_PFHT60','PFMETNoMu120_PFMHTNoMu120_IDTight'] \n",
    "        \n",
    "        selection = processor.PackedSelection()\n",
    "        \n",
    "        all_true =np.full(events.size, True, dtype=np.bool)\n",
    "        selection.add('all_true', all_true)\n",
    "        \n",
    "        triggers = np.zeros(events.size, dtype=np.bool)\n",
    "        for path in EleTrigger:\n",
    "            if path not in events.HLT.columns:\n",
    "                continue\n",
    "            triggers = triggers | events.HLT[path]\n",
    "        selection.add('ele_triggers', triggers)\n",
    "        \n",
    "        triggers = np.zeros(events.size, dtype=np.bool)\n",
    "        for path in MuTrigger:\n",
    "            if path not in events.HLT.columns: continue\n",
    "            triggers = triggers | events.HLT[path]\n",
    "        selection.add('mu_triggers', triggers)\n",
    "\n",
    "        triggers = np.zeros(events.size, dtype=np.bool)\n",
    "        for path in MetTrigger:\n",
    "            if path not in events.HLT.columns: continue\n",
    "            triggers = triggers | events.HLT[path]\n",
    "        selection.add('met_triggers', triggers)\n",
    "#         selection.add('TightMet', (Met.T >= 100))\n",
    "        \n",
    "        \n",
    "        EleTrigSel = selection.all(*('ele_triggers', 'all_true'))\n",
    "        MuTrigSel = selection.all(*('mu_triggers', 'all_true'))\n",
    "        MetTrigSel = selection.all(*('met_triggers', 'all_true'))\n",
    "#         print(EleTrigSel)\n",
    "\n",
    "#************* Histogram filling *************************\n",
    "\n",
    "        \n",
    "      \n",
    "        output['ele_pT'].fill(dataset=dataset,\n",
    "                    flavor='nosel',\n",
    "                    pT=Electron.pt[:,:1][EleTrigSel].flatten()) \n",
    "     \n",
    "        output['ele_pT'].fill(dataset=dataset,\n",
    "                    flavor='noselnotrig',\n",
    "                    pT=Electron.pt[:,:1].flatten()) \n",
    "        \n",
    "      \n",
    "        output['mu_pT'].fill(dataset=dataset,\n",
    "                    flavor='nosel',\n",
    "                    pT=Muon.pt[:,:1][MuTrigSel].flatten()) \n",
    "     \n",
    "        output['mu_pT'].fill(dataset=dataset,\n",
    "                    flavor='noselnotrig',\n",
    "                    pT=Muon.pt[:,:1].flatten()) \n",
    "        \n",
    "        \n",
    "        output['sumw'].fill(dataset=dataset, sumw=1, weight=1)\n",
    "\n",
    "\n",
    "        return output\n",
    "        \n",
    "    def postprocess(self, accumulator):\n",
    "\n",
    "\n",
    "        return accumulator        "
   ]
  },
  {
   "cell_type": "code",
   "execution_count": 73,
   "metadata": {},
   "outputs": [
    {
     "data": {
      "application/vnd.jupyter.widget-view+json": {
       "model_id": "b7f05a7c0bc144dd819eb98465b2a413",
       "version_major": 2,
       "version_minor": 0
      },
      "text/plain": [
       "HBox(children=(FloatProgress(value=0.0, description='Processing', max=32.0, style=ProgressStyle(description_wi…"
      ]
     },
     "metadata": {},
     "output_type": "display_data"
    },
    {
     "name": "stdout",
     "output_type": "stream",
     "text": [
      "\n"
     ]
    }
   ],
   "source": [
    "fileset = {'WJetsToLNu_HT-100To200_TuneCP5_13TeV-madgraphMLM-pythia8____1_':\n",
    "[\n",
    "            \"root://cmseos.fnal.gov//store/group/lpccoffea/coffeabeans/NanoAODv6/nano_2018/WJetsToLNu_HT-100To200_TuneCP5_13TeV-madgraphMLM-pythia8/NanoTuples-2018_RunIIAutumn18MiniAOD-102X_v15-v1/191207_092936/0000/nano_128.root\",\n",
    "            \"root://cmseos.fnal.gov//store/group/lpccoffea/coffeabeans/NanoAODv6/nano_2018/WJetsToLNu_HT-100To200_TuneCP5_13TeV-madgraphMLM-pythia8/NanoTuples-2018_RunIIAutumn18MiniAOD-102X_v15-v1/191207_092936/0000/nano_129.root\",\n",
    "            \"root://cmseos.fnal.gov//store/group/lpccoffea/coffeabeans/NanoAODv6/nano_2018/WJetsToLNu_HT-100To200_TuneCP5_13TeV-madgraphMLM-pythia8/NanoTuples-2018_RunIIAutumn18MiniAOD-102X_v15-v1/191207_092936/0000/nano_13.root\",\n",
    "            \"root://cmseos.fnal.gov//store/group/lpccoffea/coffeabeans/NanoAODv6/nano_2018/WJetsToLNu_HT-100To200_TuneCP5_13TeV-madgraphMLM-pythia8/NanoTuples-2018_RunIIAutumn18MiniAOD-102X_v15-v1/191207_092936/0000/nano_130.root\",\n",
    "            \"root://cmseos.fnal.gov//store/group/lpccoffea/coffeabeans/NanoAODv6/nano_2018/WJetsToLNu_HT-100To200_TuneCP5_13TeV-madgraphMLM-pythia8/NanoTuples-2018_RunIIAutumn18MiniAOD-102X_v15-v1/191207_092936/0000/nano_131.root\",\n",
    "            \"root://cmseos.fnal.gov//store/group/lpccoffea/coffeabeans/NanoAODv6/nano_2018/WJetsToLNu_HT-100To200_TuneCP5_13TeV-madgraphMLM-pythia8/NanoTuples-2018_RunIIAutumn18MiniAOD-102X_v15-v1/191207_092936/0000/nano_132.root\",\n",
    "            \"root://cmseos.fnal.gov//store/group/lpccoffea/coffeabeans/NanoAODv6/nano_2018/WJetsToLNu_HT-100To200_TuneCP5_13TeV-madgraphMLM-pythia8/NanoTuples-2018_RunIIAutumn18MiniAOD-102X_v15-v1/191207_092936/0000/nano_133.root\",\n",
    "            \"root://cmseos.fnal.gov//store/group/lpccoffea/coffeabeans/NanoAODv6/nano_2018/WJetsToLNu_HT-100To200_TuneCP5_13TeV-madgraphMLM-pythia8/NanoTuples-2018_RunIIAutumn18MiniAOD-102X_v15-v1/191207_092936/0000/nano_134.root\",\n",
    "            \"root://cmseos.fnal.gov//store/group/lpccoffea/coffeabeans/NanoAODv6/nano_2018/WJetsToLNu_HT-100To200_TuneCP5_13TeV-madgraphMLM-pythia8/NanoTuples-2018_RunIIAutumn18MiniAOD-102X_v15-v1/191207_092936/0000/nano_135.root\",\n",
    "            \"root://cmseos.fnal.gov//store/group/lpccoffea/coffeabeans/NanoAODv6/nano_2018/WJetsToLNu_HT-100To200_TuneCP5_13TeV-madgraphMLM-pythia8/NanoTuples-2018_RunIIAutumn18MiniAOD-102X_v15-v1/191207_092936/0000/nano_136.root\",\n",
    "            \"root://cmseos.fnal.gov//store/group/lpccoffea/coffeabeans/NanoAODv6/nano_2018/WJetsToLNu_HT-100To200_TuneCP5_13TeV-madgraphMLM-pythia8/NanoTuples-2018_RunIIAutumn18MiniAOD-102X_v15-v1/191207_092936/0000/nano_137.root\",\n",
    "            \"root://cmseos.fnal.gov//store/group/lpccoffea/coffeabeans/NanoAODv6/nano_2018/WJetsToLNu_HT-100To200_TuneCP5_13TeV-madgraphMLM-pythia8/NanoTuples-2018_RunIIAutumn18MiniAOD-102X_v15-v1/191207_092936/0000/nano_138.root\",\n",
    "            \"root://cmseos.fnal.gov//store/group/lpccoffea/coffeabeans/NanoAODv6/nano_2018/WJetsToLNu_HT-100To200_TuneCP5_13TeV-madgraphMLM-pythia8/NanoTuples-2018_RunIIAutumn18MiniAOD-102X_v15-v1/191207_092936/0000/nano_139.root\",\n",
    "            \"root://cmseos.fnal.gov//store/group/lpccoffea/coffeabeans/NanoAODv6/nano_2018/WJetsToLNu_HT-100To200_TuneCP5_13TeV-madgraphMLM-pythia8/NanoTuples-2018_RunIIAutumn18MiniAOD-102X_v15-v1/191207_092936/0000/nano_14.root\",\n",
    "            \"root://cmseos.fnal.gov//store/group/lpccoffea/coffeabeans/NanoAODv6/nano_2018/WJetsToLNu_HT-100To200_TuneCP5_13TeV-madgraphMLM-pythia8/NanoTuples-2018_RunIIAutumn18MiniAOD-102X_v15-v1/191207_092936/0000/nano_140.root\",\n",
    "            \"root://cmseos.fnal.gov//store/group/lpccoffea/coffeabeans/NanoAODv6/nano_2018/WJetsToLNu_HT-100To200_TuneCP5_13TeV-madgraphMLM-pythia8/NanoTuples-2018_RunIIAutumn18MiniAOD-102X_v15-v1/191207_092936/0000/nano_141.root\",\n",
    "            \"root://cmseos.fnal.gov//store/group/lpccoffea/coffeabeans/NanoAODv6/nano_2018/WJetsToLNu_HT-100To200_TuneCP5_13TeV-madgraphMLM-pythia8/NanoTuples-2018_RunIIAutumn18MiniAOD-102X_v15-v1/191207_092936/0000/nano_142.root\",\n",
    "            \"root://cmseos.fnal.gov//store/group/lpccoffea/coffeabeans/NanoAODv6/nano_2018/WJetsToLNu_HT-100To200_TuneCP5_13TeV-madgraphMLM-pythia8/NanoTuples-2018_RunIIAutumn18MiniAOD-102X_v15-v1/191207_092936/0000/nano_143.root\",\n",
    "            \"root://cmseos.fnal.gov//store/group/lpccoffea/coffeabeans/NanoAODv6/nano_2018/WJetsToLNu_HT-100To200_TuneCP5_13TeV-madgraphMLM-pythia8/NanoTuples-2018_RunIIAutumn18MiniAOD-102X_v15-v1/191207_092936/0000/nano_144.root\",\n",
    "            \"root://cmseos.fnal.gov//store/group/lpccoffea/coffeabeans/NanoAODv6/nano_2018/WJetsToLNu_HT-100To200_TuneCP5_13TeV-madgraphMLM-pythia8/NanoTuples-2018_RunIIAutumn18MiniAOD-102X_v15-v1/191207_092936/0000/nano_145.root\",\n",
    "            \"root://cmseos.fnal.gov//store/group/lpccoffea/coffeabeans/NanoAODv6/nano_2018/WJetsToLNu_HT-100To200_TuneCP5_13TeV-madgraphMLM-pythia8/NanoTuples-2018_RunIIAutumn18MiniAOD-102X_v15-v1/191207_092936/0000/nano_146.root\",\n",
    "            \"root://cmseos.fnal.gov//store/group/lpccoffea/coffeabeans/NanoAODv6/nano_2018/WJetsToLNu_HT-100To200_TuneCP5_13TeV-madgraphMLM-pythia8/NanoTuples-2018_RunIIAutumn18MiniAOD-102X_v15-v1/191207_092936/0000/nano_147.root\",\n",
    "            \"root://cmseos.fnal.gov//store/group/lpccoffea/coffeabeans/NanoAODv6/nano_2018/WJetsToLNu_HT-100To200_TuneCP5_13TeV-madgraphMLM-pythia8/NanoTuples-2018_RunIIAutumn18MiniAOD-102X_v15-v1/191207_092936/0000/nano_148.root\",\n",
    "            \"root://cmseos.fnal.gov//store/group/lpccoffea/coffeabeans/NanoAODv6/nano_2018/WJetsToLNu_HT-100To200_TuneCP5_13TeV-madgraphMLM-pythia8/NanoTuples-2018_RunIIAutumn18MiniAOD-102X_v15-v1/191207_092936/0000/nano_149.root\",\n",
    "            \"root://cmseos.fnal.gov//store/group/lpccoffea/coffeabeans/NanoAODv6/nano_2018/WJetsToLNu_HT-100To200_TuneCP5_13TeV-madgraphMLM-pythia8/NanoTuples-2018_RunIIAutumn18MiniAOD-102X_v15-v1/191207_092936/0000/nano_15.root\",\n",
    "            \"root://cmseos.fnal.gov//store/group/lpccoffea/coffeabeans/NanoAODv6/nano_2018/WJetsToLNu_HT-100To200_TuneCP5_13TeV-madgraphMLM-pythia8/NanoTuples-2018_RunIIAutumn18MiniAOD-102X_v15-v1/191207_092936/0000/nano_150.root\",\n",
    "            \"root://cmseos.fnal.gov//store/group/lpccoffea/coffeabeans/NanoAODv6/nano_2018/WJetsToLNu_HT-100To200_TuneCP5_13TeV-madgraphMLM-pythia8/NanoTuples-2018_RunIIAutumn18MiniAOD-102X_v15-v1/191207_092936/0000/nano_151.root\",\n",
    "            \"root://cmseos.fnal.gov//store/group/lpccoffea/coffeabeans/NanoAODv6/nano_2018/WJetsToLNu_HT-100To200_TuneCP5_13TeV-madgraphMLM-pythia8/NanoTuples-2018_RunIIAutumn18MiniAOD-102X_v15-v1/191207_092936/0000/nano_152.root\",\n",
    "            \"root://cmseos.fnal.gov//store/group/lpccoffea/coffeabeans/NanoAODv6/nano_2018/WJetsToLNu_HT-100To200_TuneCP5_13TeV-madgraphMLM-pythia8/NanoTuples-2018_RunIIAutumn18MiniAOD-102X_v15-v1/191207_092936/0000/nano_153.root\",\n",
    "            \"root://cmseos.fnal.gov//store/group/lpccoffea/coffeabeans/NanoAODv6/nano_2018/WJetsToLNu_HT-100To200_TuneCP5_13TeV-madgraphMLM-pythia8/NanoTuples-2018_RunIIAutumn18MiniAOD-102X_v15-v1/191207_092936/0000/nano_154.root\",\n",
    "            \"root://cmseos.fnal.gov//store/group/lpccoffea/coffeabeans/NanoAODv6/nano_2018/WJetsToLNu_HT-100To200_TuneCP5_13TeV-madgraphMLM-pythia8/NanoTuples-2018_RunIIAutumn18MiniAOD-102X_v15-v1/191207_092936/0000/nano_155.root\",\n",
    "            \"root://cmseos.fnal.gov//store/group/lpccoffea/coffeabeans/NanoAODv6/nano_2018/WJetsToLNu_HT-100To200_TuneCP5_13TeV-madgraphMLM-pythia8/NanoTuples-2018_RunIIAutumn18MiniAOD-102X_v15-v1/191207_092936/0000/nano_156.root\"\n",
    "        ],\n",
    "#           'DYJetsToLL_M-50_HT-100to200_TuneCP5_PSweights_13TeV-madgraphMLM-pythia8____0_':\n",
    "#           [\n",
    "#             \"root://cmseos.fnal.gov//store/group/lpccoffea/coffeabeans/NanoAODv6/nano_2018/DYJetsToLL_M-50_HT-100to200_TuneCP5_PSweights_13TeV-madgraphMLM-pythia8/NanoTuples-2018_RunIIAutumn18MiniAOD-102X_v15-v2/191207_044342/0000/nano_1.root\",\n",
    "#             \"root://cmseos.fnal.gov//store/group/lpccoffea/coffeabeans/NanoAODv6/nano_2018/DYJetsToLL_M-50_HT-100to200_TuneCP5_PSweights_13TeV-madgraphMLM-pythia8/NanoTuples-2018_RunIIAutumn18MiniAOD-102X_v15-v2/191207_044342/0000/nano_10.root\",\n",
    "#             \"root://cmseos.fnal.gov//store/group/lpccoffea/coffeabeans/NanoAODv6/nano_2018/DYJetsToLL_M-50_HT-100to200_TuneCP5_PSweights_13TeV-madgraphMLM-pythia8/NanoTuples-2018_RunIIAutumn18MiniAOD-102X_v15-v2/191207_044342/0000/nano_100.root\",\n",
    "#             \"root://cmseos.fnal.gov//store/group/lpccoffea/coffeabeans/NanoAODv6/nano_2018/DYJetsToLL_M-50_HT-100to200_TuneCP5_PSweights_13TeV-madgraphMLM-pythia8/NanoTuples-2018_RunIIAutumn18MiniAOD-102X_v15-v2/191207_044342/0000/nano_101.root\",\n",
    "#             \"root://cmseos.fnal.gov//store/group/lpccoffea/coffeabeans/NanoAODv6/nano_2018/DYJetsToLL_M-50_HT-100to200_TuneCP5_PSweights_13TeV-madgraphMLM-pythia8/NanoTuples-2018_RunIIAutumn18MiniAOD-102X_v15-v2/191207_044342/0000/nano_102.root\",\n",
    "#             \"root://cmseos.fnal.gov//store/group/lpccoffea/coffeabeans/NanoAODv6/nano_2018/DYJetsToLL_M-50_HT-100to200_TuneCP5_PSweights_13TeV-madgraphMLM-pythia8/NanoTuples-2018_RunIIAutumn18MiniAOD-102X_v15-v2/191207_044342/0000/nano_103.root\",\n",
    "#             \"root://cmseos.fnal.gov//store/group/lpccoffea/coffeabeans/NanoAODv6/nano_2018/DYJetsToLL_M-50_HT-100to200_TuneCP5_PSweights_13TeV-madgraphMLM-pythia8/NanoTuples-2018_RunIIAutumn18MiniAOD-102X_v15-v2/191207_044342/0000/nano_104.root\",\n",
    "#             \"root://cmseos.fnal.gov//store/group/lpccoffea/coffeabeans/NanoAODv6/nano_2018/DYJetsToLL_M-50_HT-100to200_TuneCP5_PSweights_13TeV-madgraphMLM-pythia8/NanoTuples-2018_RunIIAutumn18MiniAOD-102X_v15-v2/191207_044342/0000/nano_105.root\",\n",
    "#             \"root://cmseos.fnal.gov//store/group/lpccoffea/coffeabeans/NanoAODv6/nano_2018/DYJetsToLL_M-50_HT-100to200_TuneCP5_PSweights_13TeV-madgraphMLM-pythia8/NanoTuples-2018_RunIIAutumn18MiniAOD-102X_v15-v2/191207_044342/0000/nano_106.root\",\n",
    "#             \"root://cmseos.fnal.gov//store/group/lpccoffea/coffeabeans/NanoAODv6/nano_2018/DYJetsToLL_M-50_HT-100to200_TuneCP5_PSweights_13TeV-madgraphMLM-pythia8/NanoTuples-2018_RunIIAutumn18MiniAOD-102X_v15-v2/191207_044342/0000/nano_107.root\",\n",
    "#             \"root://cmseos.fnal.gov//store/group/lpccoffea/coffeabeans/NanoAODv6/nano_2018/DYJetsToLL_M-50_HT-100to200_TuneCP5_PSweights_13TeV-madgraphMLM-pythia8/NanoTuples-2018_RunIIAutumn18MiniAOD-102X_v15-v2/191207_044342/0000/nano_108.root\",\n",
    "#             \"root://cmseos.fnal.gov//store/group/lpccoffea/coffeabeans/NanoAODv6/nano_2018/DYJetsToLL_M-50_HT-100to200_TuneCP5_PSweights_13TeV-madgraphMLM-pythia8/NanoTuples-2018_RunIIAutumn18MiniAOD-102X_v15-v2/191207_044342/0000/nano_109.root\",\n",
    "#             \"root://cmseos.fnal.gov//store/group/lpccoffea/coffeabeans/NanoAODv6/nano_2018/DYJetsToLL_M-50_HT-100to200_TuneCP5_PSweights_13TeV-madgraphMLM-pythia8/NanoTuples-2018_RunIIAutumn18MiniAOD-102X_v15-v2/191207_044342/0000/nano_11.root\",\n",
    "#             \"root://cmseos.fnal.gov//store/group/lpccoffea/coffeabeans/NanoAODv6/nano_2018/DYJetsToLL_M-50_HT-100to200_TuneCP5_PSweights_13TeV-madgraphMLM-pythia8/NanoTuples-2018_RunIIAutumn18MiniAOD-102X_v15-v2/191207_044342/0000/nano_110.root\",\n",
    "#             \"root://cmseos.fnal.gov//store/group/lpccoffea/coffeabeans/NanoAODv6/nano_2018/DYJetsToLL_M-50_HT-100to200_TuneCP5_PSweights_13TeV-madgraphMLM-pythia8/NanoTuples-2018_RunIIAutumn18MiniAOD-102X_v15-v2/191207_044342/0000/nano_111.root\",\n",
    "#             \"root://cmseos.fnal.gov//store/group/lpccoffea/coffeabeans/NanoAODv6/nano_2018/DYJetsToLL_M-50_HT-100to200_TuneCP5_PSweights_13TeV-madgraphMLM-pythia8/NanoTuples-2018_RunIIAutumn18MiniAOD-102X_v15-v2/191207_044342/0000/nano_112.root\",\n",
    "#             \"root://cmseos.fnal.gov//store/group/lpccoffea/coffeabeans/NanoAODv6/nano_2018/DYJetsToLL_M-50_HT-100to200_TuneCP5_PSweights_13TeV-madgraphMLM-pythia8/NanoTuples-2018_RunIIAutumn18MiniAOD-102X_v15-v2/191207_044342/0000/nano_113.root\",\n",
    "#             \"root://cmseos.fnal.gov//store/group/lpccoffea/coffeabeans/NanoAODv6/nano_2018/DYJetsToLL_M-50_HT-100to200_TuneCP5_PSweights_13TeV-madgraphMLM-pythia8/NanoTuples-2018_RunIIAutumn18MiniAOD-102X_v15-v2/191207_044342/0000/nano_114.root\",\n",
    "#             \"root://cmseos.fnal.gov//store/group/lpccoffea/coffeabeans/NanoAODv6/nano_2018/DYJetsToLL_M-50_HT-100to200_TuneCP5_PSweights_13TeV-madgraphMLM-pythia8/NanoTuples-2018_RunIIAutumn18MiniAOD-102X_v15-v2/191207_044342/0000/nano_115.root\",\n",
    "#             \"root://cmseos.fnal.gov//store/group/lpccoffea/coffeabeans/NanoAODv6/nano_2018/DYJetsToLL_M-50_HT-100to200_TuneCP5_PSweights_13TeV-madgraphMLM-pythia8/NanoTuples-2018_RunIIAutumn18MiniAOD-102X_v15-v2/191207_044342/0000/nano_116.root\",\n",
    "#             \"root://cmseos.fnal.gov//store/group/lpccoffea/coffeabeans/NanoAODv6/nano_2018/DYJetsToLL_M-50_HT-100to200_TuneCP5_PSweights_13TeV-madgraphMLM-pythia8/NanoTuples-2018_RunIIAutumn18MiniAOD-102X_v15-v2/191207_044342/0000/nano_117.root\",\n",
    "#             \"root://cmseos.fnal.gov//store/group/lpccoffea/coffeabeans/NanoAODv6/nano_2018/DYJetsToLL_M-50_HT-100to200_TuneCP5_PSweights_13TeV-madgraphMLM-pythia8/NanoTuples-2018_RunIIAutumn18MiniAOD-102X_v15-v2/191207_044342/0000/nano_118.root\",\n",
    "#             \"root://cmseos.fnal.gov//store/group/lpccoffea/coffeabeans/NanoAODv6/nano_2018/DYJetsToLL_M-50_HT-100to200_TuneCP5_PSweights_13TeV-madgraphMLM-pythia8/NanoTuples-2018_RunIIAutumn18MiniAOD-102X_v15-v2/191207_044342/0000/nano_119.root\",\n",
    "#             \"root://cmseos.fnal.gov//store/group/lpccoffea/coffeabeans/NanoAODv6/nano_2018/DYJetsToLL_M-50_HT-100to200_TuneCP5_PSweights_13TeV-madgraphMLM-pythia8/NanoTuples-2018_RunIIAutumn18MiniAOD-102X_v15-v2/191207_044342/0000/nano_12.root\",\n",
    "#             \"root://cmseos.fnal.gov//store/group/lpccoffea/coffeabeans/NanoAODv6/nano_2018/DYJetsToLL_M-50_HT-100to200_TuneCP5_PSweights_13TeV-madgraphMLM-pythia8/NanoTuples-2018_RunIIAutumn18MiniAOD-102X_v15-v2/191207_044342/0000/nano_120.root\",\n",
    "#             \"root://cmseos.fnal.gov//store/group/lpccoffea/coffeabeans/NanoAODv6/nano_2018/DYJetsToLL_M-50_HT-100to200_TuneCP5_PSweights_13TeV-madgraphMLM-pythia8/NanoTuples-2018_RunIIAutumn18MiniAOD-102X_v15-v2/191207_044342/0000/nano_121.root\",\n",
    "#             \"root://cmseos.fnal.gov//store/group/lpccoffea/coffeabeans/NanoAODv6/nano_2018/DYJetsToLL_M-50_HT-100to200_TuneCP5_PSweights_13TeV-madgraphMLM-pythia8/NanoTuples-2018_RunIIAutumn18MiniAOD-102X_v15-v2/191207_044342/0000/nano_122.root\",\n",
    "#             \"root://cmseos.fnal.gov//store/group/lpccoffea/coffeabeans/NanoAODv6/nano_2018/DYJetsToLL_M-50_HT-100to200_TuneCP5_PSweights_13TeV-madgraphMLM-pythia8/NanoTuples-2018_RunIIAutumn18MiniAOD-102X_v15-v2/191207_044342/0000/nano_123.root\",\n",
    "#             \"root://cmseos.fnal.gov//store/group/lpccoffea/coffeabeans/NanoAODv6/nano_2018/DYJetsToLL_M-50_HT-100to200_TuneCP5_PSweights_13TeV-madgraphMLM-pythia8/NanoTuples-2018_RunIIAutumn18MiniAOD-102X_v15-v2/191207_044342/0000/nano_124.root\",\n",
    "#             \"root://cmseos.fnal.gov//store/group/lpccoffea/coffeabeans/NanoAODv6/nano_2018/DYJetsToLL_M-50_HT-100to200_TuneCP5_PSweights_13TeV-madgraphMLM-pythia8/NanoTuples-2018_RunIIAutumn18MiniAOD-102X_v15-v2/191207_044342/0000/nano_125.root\",\n",
    "#             \"root://cmseos.fnal.gov//store/group/lpccoffea/coffeabeans/NanoAODv6/nano_2018/DYJetsToLL_M-50_HT-100to200_TuneCP5_PSweights_13TeV-madgraphMLM-pythia8/NanoTuples-2018_RunIIAutumn18MiniAOD-102X_v15-v2/191207_044342/0000/nano_126.root\",\n",
    "#             \"root://cmseos.fnal.gov//store/group/lpccoffea/coffeabeans/NanoAODv6/nano_2018/DYJetsToLL_M-50_HT-100to200_TuneCP5_PSweights_13TeV-madgraphMLM-pythia8/NanoTuples-2018_RunIIAutumn18MiniAOD-102X_v15-v2/191207_044342/0000/nano_127.root\"\n",
    "#         ],\n",
    "#          'MET____0_'  :\n",
    "#            [\n",
    "#             \"root://cmseos.fnal.gov//store/group/lpccoffea/coffeabeans/NanoAODv6/nano_2018/MET/NanoTuples-2018_Run2018A-17Sep2018-v1/191206_204012/0000/nano_1.root\",\n",
    "#             \"root://cmseos.fnal.gov//store/group/lpccoffea/coffeabeans/NanoAODv6/nano_2018/MET/NanoTuples-2018_Run2018A-17Sep2018-v1/191206_204012/0000/nano_10.root\",\n",
    "#             \"root://cmseos.fnal.gov//store/group/lpccoffea/coffeabeans/NanoAODv6/nano_2018/MET/NanoTuples-2018_Run2018A-17Sep2018-v1/191206_204012/0000/nano_100.root\",\n",
    "#             \"root://cmseos.fnal.gov//store/group/lpccoffea/coffeabeans/NanoAODv6/nano_2018/MET/NanoTuples-2018_Run2018A-17Sep2018-v1/191206_204012/0000/nano_101.root\",\n",
    "#             \"root://cmseos.fnal.gov//store/group/lpccoffea/coffeabeans/NanoAODv6/nano_2018/MET/NanoTuples-2018_Run2018A-17Sep2018-v1/191206_204012/0000/nano_102.root\",\n",
    "#             \"root://cmseos.fnal.gov//store/group/lpccoffea/coffeabeans/NanoAODv6/nano_2018/MET/NanoTuples-2018_Run2018A-17Sep2018-v1/191206_204012/0000/nano_103.root\",\n",
    "#             \"root://cmseos.fnal.gov//store/group/lpccoffea/coffeabeans/NanoAODv6/nano_2018/MET/NanoTuples-2018_Run2018A-17Sep2018-v1/191206_204012/0000/nano_104.root\",\n",
    "#             \"root://cmseos.fnal.gov//store/group/lpccoffea/coffeabeans/NanoAODv6/nano_2018/MET/NanoTuples-2018_Run2018A-17Sep2018-v1/191206_204012/0000/nano_105.root\",\n",
    "#             \"root://cmseos.fnal.gov//store/group/lpccoffea/coffeabeans/NanoAODv6/nano_2018/MET/NanoTuples-2018_Run2018A-17Sep2018-v1/191206_204012/0000/nano_106.root\",\n",
    "#             \"root://cmseos.fnal.gov//store/group/lpccoffea/coffeabeans/NanoAODv6/nano_2018/MET/NanoTuples-2018_Run2018A-17Sep2018-v1/191206_204012/0000/nano_107.root\",\n",
    "#             \"root://cmseos.fnal.gov//store/group/lpccoffea/coffeabeans/NanoAODv6/nano_2018/MET/NanoTuples-2018_Run2018A-17Sep2018-v1/191206_204012/0000/nano_108.root\",\n",
    "#             \"root://cmseos.fnal.gov//store/group/lpccoffea/coffeabeans/NanoAODv6/nano_2018/MET/NanoTuples-2018_Run2018A-17Sep2018-v1/191206_204012/0000/nano_109.root\",\n",
    "#             \"root://cmseos.fnal.gov//store/group/lpccoffea/coffeabeans/NanoAODv6/nano_2018/MET/NanoTuples-2018_Run2018A-17Sep2018-v1/191206_204012/0000/nano_11.root\",\n",
    "#             \"root://cmseos.fnal.gov//store/group/lpccoffea/coffeabeans/NanoAODv6/nano_2018/MET/NanoTuples-2018_Run2018A-17Sep2018-v1/191206_204012/0000/nano_110.root\",\n",
    "#             \"root://cmseos.fnal.gov//store/group/lpccoffea/coffeabeans/NanoAODv6/nano_2018/MET/NanoTuples-2018_Run2018A-17Sep2018-v1/191206_204012/0000/nano_111.root\",\n",
    "#             \"root://cmseos.fnal.gov//store/group/lpccoffea/coffeabeans/NanoAODv6/nano_2018/MET/NanoTuples-2018_Run2018A-17Sep2018-v1/191206_204012/0000/nano_112.root\",\n",
    "#             \"root://cmseos.fnal.gov//store/group/lpccoffea/coffeabeans/NanoAODv6/nano_2018/MET/NanoTuples-2018_Run2018A-17Sep2018-v1/191206_204012/0000/nano_113.root\",\n",
    "#             \"root://cmseos.fnal.gov//store/group/lpccoffea/coffeabeans/NanoAODv6/nano_2018/MET/NanoTuples-2018_Run2018A-17Sep2018-v1/191206_204012/0000/nano_114.root\",\n",
    "#             \"root://cmseos.fnal.gov//store/group/lpccoffea/coffeabeans/NanoAODv6/nano_2018/MET/NanoTuples-2018_Run2018A-17Sep2018-v1/191206_204012/0000/nano_115.root\",\n",
    "#             \"root://cmseos.fnal.gov//store/group/lpccoffea/coffeabeans/NanoAODv6/nano_2018/MET/NanoTuples-2018_Run2018A-17Sep2018-v1/191206_204012/0000/nano_116.root\",\n",
    "#             \"root://cmseos.fnal.gov//store/group/lpccoffea/coffeabeans/NanoAODv6/nano_2018/MET/NanoTuples-2018_Run2018A-17Sep2018-v1/191206_204012/0000/nano_117.root\",\n",
    "#             \"root://cmseos.fnal.gov//store/group/lpccoffea/coffeabeans/NanoAODv6/nano_2018/MET/NanoTuples-2018_Run2018A-17Sep2018-v1/191206_204012/0000/nano_118.root\",\n",
    "#             \"root://cmseos.fnal.gov//store/group/lpccoffea/coffeabeans/NanoAODv6/nano_2018/MET/NanoTuples-2018_Run2018A-17Sep2018-v1/191206_204012/0000/nano_119.root\",\n",
    "#             \"root://cmseos.fnal.gov//store/group/lpccoffea/coffeabeans/NanoAODv6/nano_2018/MET/NanoTuples-2018_Run2018A-17Sep2018-v1/191206_204012/0000/nano_12.root\",\n",
    "#             \"root://cmseos.fnal.gov//store/group/lpccoffea/coffeabeans/NanoAODv6/nano_2018/MET/NanoTuples-2018_Run2018A-17Sep2018-v1/191206_204012/0000/nano_120.root\",\n",
    "#             \"root://cmseos.fnal.gov//store/group/lpccoffea/coffeabeans/NanoAODv6/nano_2018/MET/NanoTuples-2018_Run2018A-17Sep2018-v1/191206_204012/0000/nano_121.root\",\n",
    "#             \"root://cmseos.fnal.gov//store/group/lpccoffea/coffeabeans/NanoAODv6/nano_2018/MET/NanoTuples-2018_Run2018A-17Sep2018-v1/191206_204012/0000/nano_122.root\",\n",
    "#             \"root://cmseos.fnal.gov//store/group/lpccoffea/coffeabeans/NanoAODv6/nano_2018/MET/NanoTuples-2018_Run2018A-17Sep2018-v1/191206_204012/0000/nano_123.root\",\n",
    "#             \"root://cmseos.fnal.gov//store/group/lpccoffea/coffeabeans/NanoAODv6/nano_2018/MET/NanoTuples-2018_Run2018A-17Sep2018-v1/191206_204012/0000/nano_124.root\",\n",
    "#             \"root://cmseos.fnal.gov//store/group/lpccoffea/coffeabeans/NanoAODv6/nano_2018/MET/NanoTuples-2018_Run2018A-17Sep2018-v1/191206_204012/0000/nano_125.root\",\n",
    "#             \"root://cmseos.fnal.gov//store/group/lpccoffea/coffeabeans/NanoAODv6/nano_2018/MET/NanoTuples-2018_Run2018A-17Sep2018-v1/191206_204012/0000/nano_126.root\",\n",
    "#             \"root://cmseos.fnal.gov//store/group/lpccoffea/coffeabeans/NanoAODv6/nano_2018/MET/NanoTuples-2018_Run2018A-17Sep2018-v1/191206_204012/0000/nano_127.root\"\n",
    "#         ]\n",
    "}\n",
    "#Run Coffea code using uproot\n",
    "output = processor.run_uproot_job(fileset,\n",
    "                                  treename='Events',\n",
    "                                  processor_instance=AnalysisProcessor(),\n",
    "                                  executor=processor.futures_executor,\n",
    "                                  executor_args={'workers': 4, 'flatten': True, 'nano':True},\n",
    "                                 )"
   ]
  },
  {
   "cell_type": "code",
   "execution_count": 77,
   "metadata": {},
   "outputs": [
    {
     "data": {
      "text/plain": [
       "<matplotlib.axes._subplots.AxesSubplot at 0x7f8559fc2e80>"
      ]
     },
     "execution_count": 77,
     "metadata": {},
     "output_type": "execute_result"
    },
    {
     "data": {
      "image/png": "[encoded data removed]",
      "text/plain": [
       "<Figure size 432x288 with 1 Axes>"
      ]
     },
     "metadata": {
      "needs_background": "light"
     },
     "output_type": "display_data"
    }
   ],
   "source": [
    "hist.plot1d(output['ele_pT'].integrate('dataset'), overlay='flavor')"
   ]
  },
  {
   "cell_type": "code",
   "execution_count": 76,
   "metadata": {},
   "outputs": [
    {
     "data": {
      "text/plain": [
       "<matplotlib.axes._subplots.AxesSubplot at 0x7f855a712eb8>"
      ]
     },
     "execution_count": 76,
     "metadata": {},
     "output_type": "execute_result"
    },
    {
     "data": {
      "image/png": "[encoded data removed]",
      "text/plain": [
       "<Figure size 432x288 with 1 Axes>"
      ]
     },
     "metadata": {
      "needs_background": "light"
     },
     "output_type": "display_data"
    }
   ],
   "source": [
    "hist.plot1d(output['mu_pT'].integrate('dataset'), overlay='flavor')"
   ]
  },
  {
   "cell_type": "code",
   "execution_count": 71,
   "metadata": {},
   "outputs": [
    {
     "data": {
      "text/plain": [
       "<matplotlib.axes._subplots.AxesSubplot at 0x7f855a247550>"
      ]
     },
     "execution_count": 71,
     "metadata": {},
     "output_type": "execute_result"
    },
    {
     "data": {
      "image/png": "[encoded data removed]",
      "text/plain": [
       "<Figure size 432x288 with 1 Axes>"
      ]
     },
     "metadata": {
      "needs_background": "light"
     },
     "output_type": "display_data"
    }
   ],
   "source": [
    "hist.plot1d(output['mu_pT'].integrate('dataset'), overlay='flavor')"
   ]
  },
  {
   "cell_type": "code",
   "execution_count": null,
   "metadata": {},
   "outputs": [],
   "source": []
  }
 ],
 "metadata": {
  "kernelspec": {
   "display_name": "Python 3",
   "language": "python",
   "name": "python3"
  },
  "language_info": {
   "codemirror_mode": {
    "name": "ipython",
    "version": 3
   },
   "file_extension": ".py",
   "mimetype": "text/x-python",
   "name": "python",
   "nbconvert_exporter": "python",
   "pygments_lexer": "ipython3",
   "version": "3.6.5"
  }
 },
 "nbformat": 4,
 "nbformat_minor": 2
}
