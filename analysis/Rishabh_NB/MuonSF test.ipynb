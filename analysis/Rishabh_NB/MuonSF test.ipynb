{
 "cells": [
  {
   "cell_type": "raw",
   "metadata": {},
   "source": [
    "!wget -P proof/files/mc/2018/sf/ -c https://avargash.web.cern.ch/avargash/analysisFiles/scaleFactors/2018/EfficienciesAndSF_2018Data_AfterMuonHLTUpdate.root"
   ]
  },
  {
   "cell_type": "code",
   "execution_count": 2,
   "metadata": {},
   "outputs": [],
   "source": [
    "from coffea.util import load, save"
   ]
  },
  {
   "cell_type": "code",
   "execution_count": 1,
   "metadata": {},
   "outputs": [],
   "source": [
    "import uproot\n",
    "from coffea import hist, lookup_tools"
   ]
  },
  {
   "cell_type": "code",
   "execution_count": 3,
   "metadata": {},
   "outputs": [],
   "source": [
    "ele_trig_hists = {\n",
    "    '2018': uproot.open(\"../data/trigger_eff/electron_trigger_sf_2018.root\")['EGamma_SF2D'] #approved by egamma group: https://indico.cern.ch/event/924522/\n",
    "}\n",
    "get_ele_trig_weight = {}\n",
    "for year in ['2018']:\n",
    "    ele_trig_hist = ele_trig_hists[year]\n",
    "    get_ele_trig_weight[year] = lookup_tools.dense_lookup.dense_lookup(ele_trig_hist.values, ele_trig_hist.edges)"
   ]
  },
  {
   "cell_type": "code",
   "execution_count": 5,
   "metadata": {},
   "outputs": [
    {
     "data": {
      "text/plain": [
       "2 dimensional histogram with axes:\n",
       "\t1: [-2.5   -2.    -1.566 -1.444 -0.8   -0.     0.8    1.444  1.566  2.\n",
       "  2.5  ]\n",
       "\t2: [  40.   45.   50.   55.   60.   65.   70.   75.   80.   90.  100.  110.\n",
       "  120.  130.  140.  160.  180.  200.  240.  280.  320.  360.  500. 1000.]"
      ]
     },
     "execution_count": 5,
     "metadata": {},
     "output_type": "execute_result"
    }
   ],
   "source": [
    "get_ele_trig_weight['2018']"
   ]
  },
  {
   "cell_type": "markdown",
   "metadata": {},
   "source": [
    "# Mu trgger weights"
   ]
  },
  {
   "cell_type": "code",
   "execution_count": 6,
   "metadata": {},
   "outputs": [],
   "source": [
    "mu_trig_hists = {\n",
    "#     '2016': uproot.open(\"data/trigger_eff/eleTrig.root\")['hEffEtaPt'],\n",
    "#     '2017': uproot.open(\"data/trigger_eff/EfficienciesAndSF_RunBtoF_Nov17Nov2017.root\")['IsoMu27_PtEtaBins']['pt_abseta_ratio'],\n",
    "    '2018': uproot.open(\"../data/trigger_eff/EfficienciesAndSF_2018Data_AfterMuonHLTUpdate.root\")['IsoMu24_PtEtaBins']['pt_abseta_ratio']\n",
    "}\n",
    "get_mu_trig_weight = {}\n",
    "for year in ['2018']:\n",
    "    mu_trig_hist = mu_trig_hists[year]\n",
    "    get_mu_trig_weight[year] = lookup_tools.dense_lookup.dense_lookup(mu_trig_hist.values, mu_trig_hist.edges)"
   ]
  },
  {
   "cell_type": "code",
   "execution_count": 7,
   "metadata": {},
   "outputs": [
    {
     "data": {
      "text/plain": [
       "2 dimensional histogram with axes:\n",
       "\t1: [  26.   30.   40.   50.   60.  120.  200.  300. 1200.]\n",
       "\t2: [0.  0.9 1.2 2.1 2.4]"
      ]
     },
     "execution_count": 7,
     "metadata": {},
     "output_type": "execute_result"
    }
   ],
   "source": [
    "get_mu_trig_weight['2018']"
   ]
  },
  {
   "cell_type": "code",
   "execution_count": 9,
   "metadata": {},
   "outputs": [],
   "source": [
    "hist = uproot.open(\"../data/trigger_eff/EfficienciesAndSF_2018Data_AfterMuonHLTUpdate.root\")"
   ]
  },
  {
   "cell_type": "code",
   "execution_count": 13,
   "metadata": {},
   "outputs": [
    {
     "data": {
      "text/plain": [
       "[b'efficienciesDATA;1',\n",
       " b'efficienciesMC;1',\n",
       " b'abseta_pt_ratio;1',\n",
       " b'pt_abseta_ratio;1']"
      ]
     },
     "execution_count": 13,
     "metadata": {},
     "output_type": "execute_result"
    }
   ],
   "source": [
    "hist['IsoMu24_PtEtaBins'].keys()"
   ]
  },
  {
   "cell_type": "code",
   "execution_count": null,
   "metadata": {},
   "outputs": [],
   "source": []
  }
 ],
 "metadata": {
  "kernelspec": {
   "display_name": "Python 3",
   "language": "python",
   "name": "python3"
  },
  "language_info": {
   "codemirror_mode": {
    "name": "ipython",
    "version": 3
   },
   "file_extension": ".py",
   "mimetype": "text/x-python",
   "name": "python",
   "nbconvert_exporter": "python",
   "pygments_lexer": "ipython3",
   "version": "3.6.5"
  }
 },
 "nbformat": 4,
 "nbformat_minor": 2
}
