{
 "cells": [
  {
   "cell_type": "raw",
   "metadata": {},
   "source": [
    "!wget -P proof/files/mc/2018/sf/ -c https://avargash.web.cern.ch/avargash/analysisFiles/scaleFactors/2018/EfficienciesAndSF_2018Data_AfterMuonHLTUpdate.root"
   ]
  },
  {
   "cell_type": "code",
   "execution_count": 2,
   "metadata": {},
   "outputs": [],
   "source": [
    "from coffea.util import load, save"
   ]
  },
  {
   "cell_type": "code",
   "execution_count": 1,
   "metadata": {},
   "outputs": [],
   "source": [
    "import uproot"
   ]
  },
  {
   "cell_type": "code",
   "execution_count": 2,
   "metadata": {},
   "outputs": [],
   "source": [
    "file = uproot.open('proof/files/mc/2018/sf/EfficienciesAndSF_2018Data_AfterMuonHLTUpdate.root')"
   ]
  },
  {
   "cell_type": "code",
   "execution_count": 3,
   "metadata": {},
   "outputs": [
    {
     "data": {
      "text/plain": [
       "[b'IsoMu24_EtaBins;1',\n",
       " b'IsoMu24_PtBins;1',\n",
       " b'IsoMu24_PtEtaBins;1',\n",
       " b'IsoMu24_VtxBins;1',\n",
       " b'Mu50_OR_OldMu100_OR_TkMu100_EtaBins;1',\n",
       " b'Mu50_OR_OldMu100_OR_TkMu100_PtBins;1',\n",
       " b'Mu50_OR_OldMu100_OR_TkMu100_PtEtaBins;1',\n",
       " b'Mu50_OR_OldMu100_OR_TkMu100_VtxBins;1']"
      ]
     },
     "execution_count": 3,
     "metadata": {},
     "output_type": "execute_result"
    }
   ],
   "source": [
    "file.keys()"
   ]
  },
  {
   "cell_type": "code",
   "execution_count": 4,
   "metadata": {},
   "outputs": [
    {
     "data": {
      "text/plain": [
       "[b'efficienciesDATA;1',\n",
       " b'efficienciesMC;1',\n",
       " b'abseta_pt_ratio;1',\n",
       " b'pt_abseta_ratio;1']"
      ]
     },
     "execution_count": 4,
     "metadata": {},
     "output_type": "execute_result"
    }
   ],
   "source": [
    "file['Mu50_OR_OldMu100_OR_TkMu100_PtEtaBins'].keys()"
   ]
  },
  {
   "cell_type": "code",
   "execution_count": 12,
   "metadata": {},
   "outputs": [
    {
     "data": {
      "text/plain": [
       "(array([  52.,   56.,   60.,  120.,  200.,  300., 1200.]),\n",
       " array([0. , 0.9, 1.2, 2.1, 2.4]))"
      ]
     },
     "execution_count": 12,
     "metadata": {},
     "output_type": "execute_result"
    }
   ],
   "source": [
    "file['Mu50_OR_OldMu100_OR_TkMu100_PtEtaBins']['pt_abseta_ratio'].edges"
   ]
  },
  {
   "cell_type": "code",
   "execution_count": 24,
   "metadata": {},
   "outputs": [
    {
     "data": {
      "text/plain": [
       "<b'TGraphAsymmErrors' b'hxy_fit_eff' 0x7f3305dd0eb8>"
      ]
     },
     "execution_count": 24,
     "metadata": {},
     "output_type": "execute_result"
    }
   ],
   "source": [
    "file['IsoMu24_PtEtaBins']['efficienciesMC']['abseta_PLOT_pt_bin0_&_Tight2012_pass_&_dBeta_015_pass_&_tag_IsoMu24_pass_MC']"
   ]
  },
  {
   "cell_type": "code",
   "execution_count": 16,
   "metadata": {},
   "outputs": [],
   "source": [
    "file1=uproot.open('../../analysis/data/trigger_eff/electron_trigger_sf_2018.root')"
   ]
  },
  {
   "cell_type": "code",
   "execution_count": 19,
   "metadata": {},
   "outputs": [
    {
     "data": {
      "text/plain": [
       "[b'EGamma_SF2D;1',\n",
       " b'EGamma_EffData2D;1',\n",
       " b'EGamma_EffMC2D;1',\n",
       " b'grSF1D_0;1',\n",
       " b'grSF1D_1;1',\n",
       " b'grSF1D_2;1',\n",
       " b'grSF1D_3;1',\n",
       " b'grSF1D_4;1',\n",
       " b'grSF1D_5;1',\n",
       " b'grSF1D_6;1',\n",
       " b'grSF1D_7;1',\n",
       " b'grSF1D_8;1',\n",
       " b'grSF1D_9;1',\n",
       " b'grSF1D_10;1',\n",
       " b'grSF1D_11;1',\n",
       " b'grSF1D_12;1',\n",
       " b'grSF1D_13;1',\n",
       " b'grSF1D_14;1',\n",
       " b'grSF1D_15;1',\n",
       " b'grSF1D_16;1',\n",
       " b'grSF1D_17;1',\n",
       " b'grSF1D_18;1',\n",
       " b'grSF1D_19;1',\n",
       " b'grSF1D_20;1',\n",
       " b'grSF1D_21;1',\n",
       " b'grSF1D_22;1']"
      ]
     },
     "execution_count": 19,
     "metadata": {},
     "output_type": "execute_result"
    }
   ],
   "source": [
    "file1.keys()"
   ]
  },
  {
   "cell_type": "code",
   "execution_count": null,
   "metadata": {},
   "outputs": [],
   "source": []
  }
 ],
 "metadata": {
  "kernelspec": {
   "display_name": "Python 3",
   "language": "python",
   "name": "python3"
  },
  "language_info": {
   "codemirror_mode": {
    "name": "ipython",
    "version": 3
   },
   "file_extension": ".py",
   "mimetype": "text/x-python",
   "name": "python",
   "nbconvert_exporter": "python",
   "pygments_lexer": "ipython3",
   "version": "3.6.5"
  }
 },
 "nbformat": 4,
 "nbformat_minor": 2
}
